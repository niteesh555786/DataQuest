{
  "nbformat": 4,
  "nbformat_minor": 0,
  "metadata": {
    "colab": {
      "name": "Modelv1.0.ipynb",
      "version": "0.3.2",
      "views": {},
      "default_view": {},
      "provenance": []
    },
    "kernelspec": {
      "display_name": "Python 3",
      "language": "python",
      "name": "python3"
    }
  },
  "cells": [
    {
      "metadata": {
        "id": "hRUszkvwSbzd",
        "colab_type": "code",
        "colab": {
          "autoexec": {
            "startup": false,
            "wait_interval": 0
          }
        }
      },
      "cell_type": "code",
      "source": [
        "import pandas as pd\n",
        "import numpy as np\n",
        "import seaborn as sns\n",
        "import matplotlib.pyplot as plt\n",
        "%matplotlib inline"
      ],
      "execution_count": 0,
      "outputs": []
    },
    {
      "metadata": {
        "id": "KZvk9qkBSrzA",
        "colab_type": "code",
        "colab": {
          "autoexec": {
            "startup": false,
            "wait_interval": 0
          },
          "output_extras": [
            {
              "item_id": 1
            },
            {
              "item_id": 5
            }
          ],
          "resources": {
            "http://localhost:8080/nbextensions/google.colab/files.js": {
              "data": "Ly8gQ29weXJpZ2h0IDIwMTcgR29vZ2xlIExMQwovLwovLyBMaWNlbnNlZCB1bmRlciB0aGUgQXBhY2hlIExpY2Vuc2UsIFZlcnNpb24gMi4wICh0aGUgIkxpY2Vuc2UiKTsKLy8geW91IG1heSBub3QgdXNlIHRoaXMgZmlsZSBleGNlcHQgaW4gY29tcGxpYW5jZSB3aXRoIHRoZSBMaWNlbnNlLgovLyBZb3UgbWF5IG9idGFpbiBhIGNvcHkgb2YgdGhlIExpY2Vuc2UgYXQKLy8KLy8gICAgICBodHRwOi8vd3d3LmFwYWNoZS5vcmcvbGljZW5zZXMvTElDRU5TRS0yLjAKLy8KLy8gVW5sZXNzIHJlcXVpcmVkIGJ5IGFwcGxpY2FibGUgbGF3IG9yIGFncmVlZCB0byBpbiB3cml0aW5nLCBzb2Z0d2FyZQovLyBkaXN0cmlidXRlZCB1bmRlciB0aGUgTGljZW5zZSBpcyBkaXN0cmlidXRlZCBvbiBhbiAiQVMgSVMiIEJBU0lTLAovLyBXSVRIT1VUIFdBUlJBTlRJRVMgT1IgQ09ORElUSU9OUyBPRiBBTlkgS0lORCwgZWl0aGVyIGV4cHJlc3Mgb3IgaW1wbGllZC4KLy8gU2VlIHRoZSBMaWNlbnNlIGZvciB0aGUgc3BlY2lmaWMgbGFuZ3VhZ2UgZ292ZXJuaW5nIHBlcm1pc3Npb25zIGFuZAovLyBsaW1pdGF0aW9ucyB1bmRlciB0aGUgTGljZW5zZS4KCi8qKgogKiBAZmlsZW92ZXJ2aWV3IEhlbHBlcnMgZm9yIGdvb2dsZS5jb2xhYiBQeXRob24gbW9kdWxlLgogKi8KKGZ1bmN0aW9uKHNjb3BlKSB7CmZ1bmN0aW9uIHNwYW4odGV4dCwgc3R5bGVBdHRyaWJ1dGVzID0ge30pIHsKICBjb25zdCBlbGVtZW50ID0gZG9jdW1lbnQuY3JlYXRlRWxlbWVudCgnc3BhbicpOwogIGVsZW1lbnQudGV4dENvbnRlbnQgPSB0ZXh0OwogIGZvciAoY29uc3Qga2V5IG9mIE9iamVjdC5rZXlzKHN0eWxlQXR0cmlidXRlcykpIHsKICAgIGVsZW1lbnQuc3R5bGVba2V5XSA9IHN0eWxlQXR0cmlidXRlc1trZXldOwogIH0KICByZXR1cm4gZWxlbWVudDsKfQoKLy8gTWF4IG51bWJlciBvZiBieXRlcyB3aGljaCB3aWxsIGJlIHVwbG9hZGVkIGF0IGEgdGltZS4KY29uc3QgTUFYX1BBWUxPQURfU0laRSA9IDEwMCAqIDEwMjQ7Ci8vIE1heCBhbW91bnQgb2YgdGltZSB0byBibG9jayB3YWl0aW5nIGZvciB0aGUgdXNlci4KY29uc3QgRklMRV9DSEFOR0VfVElNRU9VVF9NUyA9IDMwICogMTAwMDsKCmZ1bmN0aW9uIF91cGxvYWRGaWxlcyhpbnB1dElkLCBvdXRwdXRJZCkgewogIGNvbnN0IHN0ZXBzID0gdXBsb2FkRmlsZXNTdGVwKGlucHV0SWQsIG91dHB1dElkKTsKICBjb25zdCBvdXRwdXRFbGVtZW50ID0gZG9jdW1lbnQuZ2V0RWxlbWVudEJ5SWQob3V0cHV0SWQpOwogIC8vIENhY2hlIHN0ZXBzIG9uIHRoZSBvdXRwdXRFbGVtZW50IHRvIG1ha2UgaXQgYXZhaWxhYmxlIGZvciB0aGUgbmV4dCBjYWxsCiAgLy8gdG8gdXBsb2FkRmlsZXNDb250aW51ZSBmcm9tIFB5dGhvbi4KICBvdXRwdXRFbGVtZW50LnN0ZXBzID0gc3RlcHM7CgogIHJldHVybiBfdXBsb2FkRmlsZXNDb250aW51ZShvdXRwdXRJZCk7Cn0KCi8vIFRoaXMgaXMgcm91Z2hseSBhbiBhc3luYyBnZW5lcmF0b3IgKG5vdCBzdXBwb3J0ZWQgaW4gdGhlIGJyb3dzZXIgeWV0KSwKLy8gd2hlcmUgdGhlcmUgYXJlIG11bHRpcGxlIGFzeW5jaHJvbm91cyBzdGVwcyBhbmQgdGhlIFB5dGhvbiBzaWRlIGlzIGdvaW5nCi8vIHRvIHBvbGwgZm9yIGNvbXBsZXRpb24gb2YgZWFjaCBzdGVwLgovLyBUaGlzIHVzZXMgYSBQcm9taXNlIHRvIGJsb2NrIHRoZSBweXRob24gc2lkZSBvbiBjb21wbGV0aW9uIG9mIGVhY2ggc3RlcCwKLy8gdGhlbiBwYXNzZXMgdGhlIHJlc3VsdCBvZiB0aGUgcHJldmlvdXMgc3RlcCBhcyB0aGUgaW5wdXQgdG8gdGhlIG5leHQgc3RlcC4KZnVuY3Rpb24gX3VwbG9hZEZpbGVzQ29udGludWUob3V0cHV0SWQpIHsKICBjb25zdCBvdXRwdXRFbGVtZW50ID0gZG9jdW1lbnQuZ2V0RWxlbWVudEJ5SWQob3V0cHV0SWQpOwogIGNvbnN0IHN0ZXBzID0gb3V0cHV0RWxlbWVudC5zdGVwczsKCiAgY29uc3QgbmV4dCA9IHN0ZXBzLm5leHQob3V0cHV0RWxlbWVudC5sYXN0UHJvbWlzZVZhbHVlKTsKICByZXR1cm4gUHJvbWlzZS5yZXNvbHZlKG5leHQudmFsdWUucHJvbWlzZSkudGhlbigodmFsdWUpID0+IHsKICAgIC8vIENhY2hlIHRoZSBsYXN0IHByb21pc2UgdmFsdWUgdG8gbWFrZSBpdCBhdmFpbGFibGUgdG8gdGhlIG5leHQKICAgIC8vIHN0ZXAgb2YgdGhlIGdlbmVyYXRvci4KICAgIG91dHB1dEVsZW1lbnQubGFzdFByb21pc2VWYWx1ZSA9IHZhbHVlOwogICAgcmV0dXJuIG5leHQudmFsdWUucmVzcG9uc2U7CiAgfSk7Cn0KCi8qKgogKiBHZW5lcmF0b3IgZnVuY3Rpb24gd2hpY2ggaXMgY2FsbGVkIGJldHdlZW4gZWFjaCBhc3luYyBzdGVwIG9mIHRoZSB1cGxvYWQKICogcHJvY2Vzcy4KICogQHBhcmFtIHtzdHJpbmd9IGlucHV0SWQgRWxlbWVudCBJRCBvZiB0aGUgaW5wdXQgZmlsZSBwaWNrZXIgZWxlbWVudC4KICogQHBhcmFtIHtzdHJpbmd9IG91dHB1dElkIEVsZW1lbnQgSUQgb2YgdGhlIG91dHB1dCBkaXNwbGF5LgogKiBAcmV0dXJuIHshSXRlcmFibGU8IU9iamVjdD59IEl0ZXJhYmxlIG9mIG5leHQgc3RlcHMuCiAqLwpmdW5jdGlvbiogdXBsb2FkRmlsZXNTdGVwKGlucHV0SWQsIG91dHB1dElkKSB7CiAgY29uc3QgaW5wdXRFbGVtZW50ID0gZG9jdW1lbnQuZ2V0RWxlbWVudEJ5SWQoaW5wdXRJZCk7CiAgaW5wdXRFbGVtZW50LmRpc2FibGVkID0gZmFsc2U7CgogIGNvbnN0IG91dHB1dEVsZW1lbnQgPSBkb2N1bWVudC5nZXRFbGVtZW50QnlJZChvdXRwdXRJZCk7CiAgb3V0cHV0RWxlbWVudC5pbm5lckhUTUwgPSAnJzsKCiAgY29uc3QgcGlja2VkUHJvbWlzZSA9IG5ldyBQcm9taXNlKChyZXNvbHZlKSA9PiB7CiAgICBpbnB1dEVsZW1lbnQuYWRkRXZlbnRMaXN0ZW5lcignY2hhbmdlJywgKGUpID0+IHsKICAgICAgcmVzb2x2ZShlLnRhcmdldC5maWxlcyk7CiAgICB9KTsKICB9KTsKCiAgY29uc3QgY2FuY2VsID0gZG9jdW1lbnQuY3JlYXRlRWxlbWVudCgnYnV0dG9uJyk7CiAgaW5wdXRFbGVtZW50LnBhcmVudEVsZW1lbnQuYXBwZW5kQ2hpbGQoY2FuY2VsKTsKICBjYW5jZWwudGV4dENvbnRlbnQgPSAnQ2FuY2VsIHVwbG9hZCc7CiAgY29uc3QgY2FuY2VsUHJvbWlzZSA9IG5ldyBQcm9taXNlKChyZXNvbHZlKSA9PiB7CiAgICBjYW5jZWwub25jbGljayA9ICgpID0+IHsKICAgICAgcmVzb2x2ZShudWxsKTsKICAgIH07CiAgfSk7CgogIC8vIENhbmNlbCB1cGxvYWQgaWYgdXNlciBoYXNuJ3QgcGlja2VkIGFueXRoaW5nIGluIHRpbWVvdXQuCiAgY29uc3QgdGltZW91dFByb21pc2UgPSBuZXcgUHJvbWlzZSgocmVzb2x2ZSkgPT4gewogICAgc2V0VGltZW91dCgoKSA9PiB7CiAgICAgIHJlc29sdmUobnVsbCk7CiAgICB9LCBGSUxFX0NIQU5HRV9USU1FT1VUX01TKTsKICB9KTsKCiAgLy8gV2FpdCBmb3IgdGhlIHVzZXIgdG8gcGljayB0aGUgZmlsZXMuCiAgY29uc3QgZmlsZXMgPSB5aWVsZCB7CiAgICBwcm9taXNlOiBQcm9taXNlLnJhY2UoW3BpY2tlZFByb21pc2UsIHRpbWVvdXRQcm9taXNlLCBjYW5jZWxQcm9taXNlXSksCiAgICByZXNwb25zZTogewogICAgICBhY3Rpb246ICdzdGFydGluZycsCiAgICB9CiAgfTsKCiAgaWYgKCFmaWxlcykgewogICAgcmV0dXJuIHsKICAgICAgcmVzcG9uc2U6IHsKICAgICAgICBhY3Rpb246ICdjb21wbGV0ZScsCiAgICAgIH0KICAgIH07CiAgfQoKICBjYW5jZWwucmVtb3ZlKCk7CgogIC8vIERpc2FibGUgdGhlIGlucHV0IGVsZW1lbnQgc2luY2UgZnVydGhlciBwaWNrcyBhcmUgbm90IGFsbG93ZWQuCiAgaW5wdXRFbGVtZW50LmRpc2FibGVkID0gdHJ1ZTsKCiAgZm9yIChjb25zdCBmaWxlIG9mIGZpbGVzKSB7CiAgICBjb25zdCBsaSA9IGRvY3VtZW50LmNyZWF0ZUVsZW1lbnQoJ2xpJyk7CiAgICBsaS5hcHBlbmQoc3BhbihmaWxlLm5hbWUsIHtmb250V2VpZ2h0OiAnYm9sZCd9KSk7CiAgICBsaS5hcHBlbmQoc3BhbigKICAgICAgICBgKCR7ZmlsZS50eXBlIHx8ICduL2EnfSkgLSAke2ZpbGUuc2l6ZX0gYnl0ZXMsIGAgKwogICAgICAgIGBsYXN0IG1vZGlmaWVkOiAkewogICAgICAgICAgICBmaWxlLmxhc3RNb2RpZmllZERhdGUgPyBmaWxlLmxhc3RNb2RpZmllZERhdGUudG9Mb2NhbGVEYXRlU3RyaW5nKCkgOgogICAgICAgICAgICAgICAgICAgICAgICAgICAgICAgICAgICAnbi9hJ30gLSBgKSk7CiAgICBjb25zdCBwZXJjZW50ID0gc3BhbignMCUgZG9uZScpOwogICAgbGkuYXBwZW5kQ2hpbGQocGVyY2VudCk7CgogICAgb3V0cHV0RWxlbWVudC5hcHBlbmRDaGlsZChsaSk7CgogICAgY29uc3QgZmlsZURhdGFQcm9taXNlID0gbmV3IFByb21pc2UoKHJlc29sdmUpID0+IHsKICAgICAgY29uc3QgcmVhZGVyID0gbmV3IEZpbGVSZWFkZXIoKTsKICAgICAgcmVhZGVyLm9ubG9hZCA9IChlKSA9PiB7CiAgICAgICAgcmVzb2x2ZShlLnRhcmdldC5yZXN1bHQpOwogICAgICB9OwogICAgICByZWFkZXIucmVhZEFzQXJyYXlCdWZmZXIoZmlsZSk7CiAgICB9KTsKICAgIC8vIFdhaXQgZm9yIHRoZSBkYXRhIHRvIGJlIHJlYWR5LgogICAgbGV0IGZpbGVEYXRhID0geWllbGQgewogICAgICBwcm9taXNlOiBmaWxlRGF0YVByb21pc2UsCiAgICAgIHJlc3BvbnNlOiB7CiAgICAgICAgYWN0aW9uOiAnY29udGludWUnLAogICAgICB9CiAgICB9OwoKICAgIC8vIFVzZSBhIGNodW5rZWQgc2VuZGluZyB0byBhdm9pZCBtZXNzYWdlIHNpemUgbGltaXRzLiBTZWUgYi82MjExNTY2MC4KICAgIGxldCBwb3NpdGlvbiA9IDA7CiAgICB3aGlsZSAocG9zaXRpb24gPCBmaWxlRGF0YS5ieXRlTGVuZ3RoKSB7CiAgICAgIGNvbnN0IGxlbmd0aCA9IE1hdGgubWluKGZpbGVEYXRhLmJ5dGVMZW5ndGggLSBwb3NpdGlvbiwgTUFYX1BBWUxPQURfU0laRSk7CiAgICAgIGNvbnN0IGNodW5rID0gbmV3IFVpbnQ4QXJyYXkoZmlsZURhdGEsIHBvc2l0aW9uLCBsZW5ndGgpOwogICAgICBwb3NpdGlvbiArPSBsZW5ndGg7CgogICAgICBjb25zdCBiYXNlNjQgPSBidG9hKFN0cmluZy5mcm9tQ2hhckNvZGUuYXBwbHkobnVsbCwgY2h1bmspKTsKICAgICAgeWllbGQgewogICAgICAgIHJlc3BvbnNlOiB7CiAgICAgICAgICBhY3Rpb246ICdhcHBlbmQnLAogICAgICAgICAgZmlsZTogZmlsZS5uYW1lLAogICAgICAgICAgZGF0YTogYmFzZTY0LAogICAgICAgIH0sCiAgICAgIH07CiAgICAgIHBlcmNlbnQudGV4dENvbnRlbnQgPQogICAgICAgICAgYCR7TWF0aC5yb3VuZCgocG9zaXRpb24gLyBmaWxlRGF0YS5ieXRlTGVuZ3RoKSAqIDEwMCl9JSBkb25lYDsKICAgIH0KICB9CgogIC8vIEFsbCBkb25lLgogIHlpZWxkIHsKICAgIHJlc3BvbnNlOiB7CiAgICAgIGFjdGlvbjogJ2NvbXBsZXRlJywKICAgIH0KICB9Owp9CgpzY29wZS5nb29nbGUgPSBzY29wZS5nb29nbGUgfHwge307CnNjb3BlLmdvb2dsZS5jb2xhYiA9IHNjb3BlLmdvb2dsZS5jb2xhYiB8fCB7fTsKc2NvcGUuZ29vZ2xlLmNvbGFiLl9maWxlcyA9IHsKICBfdXBsb2FkRmlsZXMsCiAgX3VwbG9hZEZpbGVzQ29udGludWUsCn07Cn0pKHNlbGYpOwo=",
              "ok": true,
              "headers": [
                [
                  "content-type",
                  "application/javascript"
                ]
              ],
              "status": 200,
              "status_text": ""
            }
          },
          "base_uri": "https://localhost:8080/",
          "height": 191
        },
        "outputId": "0270e4e8-e258-4232-97b1-e432fb539fea",
        "executionInfo": {
          "status": "ok",
          "timestamp": 1521389113790,
          "user_tz": -330,
          "elapsed": 52393,
          "user": {
            "displayName": "Nitesh Tiwari",
            "photoUrl": "//lh3.googleusercontent.com/-9Nv5B-a3Ey0/AAAAAAAAAAI/AAAAAAAAAfk/2lqa15W2g-k/s50-c-k-no/photo.jpg",
            "userId": "103011910892907793236"
          }
        }
      },
      "cell_type": "code",
      "source": [
        "from google.colab import files\n",
        "\n",
        "uploaded = files.upload()\n",
        "\n",
        "for fn in uploaded.keys():\n",
        "  print('User uploaded file \"{name}\" with length {length} bytes'.format(\n",
        "      name=fn, length=len(uploaded[fn])))"
      ],
      "execution_count": 2,
      "outputs": [
        {
          "output_type": "display_data",
          "data": {
            "text/html": [
              "\n",
              "     <input type=\"file\" id=\"files-1f52a304-8954-4c5f-be07-15529c63a1dd\" name=\"files[]\" multiple disabled />\n",
              "     <output id=\"result-1f52a304-8954-4c5f-be07-15529c63a1dd\">\n",
              "      Upload widget is only available when the cell has been executed in the\n",
              "      current browser session. Please rerun this cell to enable.\n",
              "      </output>\n",
              "      <script src=\"/nbextensions/google.colab/files.js\"></script> "
            ],
            "text/plain": [
              "<IPython.core.display.HTML object>"
            ]
          },
          "metadata": {
            "tags": []
          }
        },
        {
          "output_type": "stream",
          "text": [
            "Saving sample.csv to sample.csv\n",
            "Saving test.csv to test.csv\n",
            "Saving train.csv to train.csv\n",
            "User uploaded file \"sample.csv\" with length 106031 bytes\n",
            "User uploaded file \"test.csv\" with length 511695 bytes\n",
            "User uploaded file \"train.csv\" with length 1215487 bytes\n"
          ],
          "name": "stdout"
        }
      ]
    },
    {
      "metadata": {
        "id": "h7uSVydYSbzl",
        "colab_type": "text"
      },
      "cell_type": "markdown",
      "source": [
        "# Importing Dataset"
      ]
    },
    {
      "metadata": {
        "id": "qkhX7MU3Sbzm",
        "colab_type": "code",
        "colab": {
          "autoexec": {
            "startup": false,
            "wait_interval": 0
          }
        }
      },
      "cell_type": "code",
      "source": [
        "df=pd.read_csv('train.csv')"
      ],
      "execution_count": 0,
      "outputs": []
    },
    {
      "metadata": {
        "id": "npKJ0dfoSbzr",
        "colab_type": "code",
        "colab": {
          "autoexec": {
            "startup": false,
            "wait_interval": 0
          },
          "output_extras": [
            {
              "item_id": 1
            }
          ],
          "base_uri": "https://localhost:8080/",
          "height": 275
        },
        "outputId": "20e870e1-c4f1-485d-88c3-c5ca6c73cdf8",
        "executionInfo": {
          "status": "ok",
          "timestamp": 1521393007336,
          "user_tz": -330,
          "elapsed": 1904,
          "user": {
            "displayName": "Nitesh Tiwari",
            "photoUrl": "//lh3.googleusercontent.com/-9Nv5B-a3Ey0/AAAAAAAAAAI/AAAAAAAAAfk/2lqa15W2g-k/s50-c-k-no/photo.jpg",
            "userId": "103011910892907793236"
          }
        }
      },
      "cell_type": "code",
      "source": [
        "df.head()"
      ],
      "execution_count": 176,
      "outputs": [
        {
          "output_type": "execute_result",
          "data": {
            "text/html": [
              "<div>\n",
              "<style scoped>\n",
              "    .dataframe tbody tr th:only-of-type {\n",
              "        vertical-align: middle;\n",
              "    }\n",
              "\n",
              "    .dataframe tbody tr th {\n",
              "        vertical-align: top;\n",
              "    }\n",
              "\n",
              "    .dataframe thead th {\n",
              "        text-align: right;\n",
              "    }\n",
              "</style>\n",
              "<table border=\"1\" class=\"dataframe\">\n",
              "  <thead>\n",
              "    <tr style=\"text-align: right;\">\n",
              "      <th></th>\n",
              "      <th>victim_id</th>\n",
              "      <th>incident_time</th>\n",
              "      <th>incident_date</th>\n",
              "      <th>incident_location</th>\n",
              "      <th>incident_tehsil</th>\n",
              "      <th>cause_of_emergency</th>\n",
              "      <th>base_to_scene_distance</th>\n",
              "      <th>scene_to_hospital_distance</th>\n",
              "      <th>roadway_feature</th>\n",
              "      <th>road_type</th>\n",
              "      <th>surrounding_area</th>\n",
              "      <th>criticality</th>\n",
              "    </tr>\n",
              "  </thead>\n",
              "  <tbody>\n",
              "    <tr>\n",
              "      <th>0</th>\n",
              "      <td>VIC20120001987267</td>\n",
              "      <td>22:23:19</td>\n",
              "      <td>07-11-2012</td>\n",
              "      <td>Subhash Nagar</td>\n",
              "      <td>Raipur</td>\n",
              "      <td>Multiple Vehicular Incident</td>\n",
              "      <td>13</td>\n",
              "      <td>12</td>\n",
              "      <td>CUR</td>\n",
              "      <td>HIW</td>\n",
              "      <td>FOR</td>\n",
              "      <td>0</td>\n",
              "    </tr>\n",
              "    <tr>\n",
              "      <th>1</th>\n",
              "      <td>VIC20110002147887</td>\n",
              "      <td>20:23:09</td>\n",
              "      <td>02-11-2011</td>\n",
              "      <td>Coro Nation</td>\n",
              "      <td>Raipur</td>\n",
              "      <td>2 Wheeler accidents</td>\n",
              "      <td>1</td>\n",
              "      <td>5</td>\n",
              "      <td>CUR</td>\n",
              "      <td>HIW</td>\n",
              "      <td>AGL</td>\n",
              "      <td>0</td>\n",
              "    </tr>\n",
              "    <tr>\n",
              "      <th>2</th>\n",
              "      <td>VIC20090001391483</td>\n",
              "      <td>20:37:15</td>\n",
              "      <td>25-07-2009</td>\n",
              "      <td>Kewal Vihar</td>\n",
              "      <td>Raipur</td>\n",
              "      <td>Non motorised vehicle accidents(Bullock cart,B...</td>\n",
              "      <td>2</td>\n",
              "      <td>2</td>\n",
              "      <td>INT</td>\n",
              "      <td>LOC</td>\n",
              "      <td>HOSP</td>\n",
              "      <td>0</td>\n",
              "    </tr>\n",
              "    <tr>\n",
              "      <th>3</th>\n",
              "      <td>VIC20120000900722</td>\n",
              "      <td>15:20:22</td>\n",
              "      <td>19-05-2012</td>\n",
              "      <td>I S B T</td>\n",
              "      <td>Raipur</td>\n",
              "      <td>2 Wheeler accidents</td>\n",
              "      <td>8</td>\n",
              "      <td>4</td>\n",
              "      <td>CUR</td>\n",
              "      <td>HIW</td>\n",
              "      <td>HIL</td>\n",
              "      <td>0</td>\n",
              "    </tr>\n",
              "    <tr>\n",
              "      <th>4</th>\n",
              "      <td>VIC20100001241285</td>\n",
              "      <td>16:22:17</td>\n",
              "      <td>12-06-2010</td>\n",
              "      <td>Sahaspur Ambu</td>\n",
              "      <td>Sahaspur</td>\n",
              "      <td>2 Wheeler accidents</td>\n",
              "      <td>1</td>\n",
              "      <td>26</td>\n",
              "      <td>CUR</td>\n",
              "      <td>HIW</td>\n",
              "      <td>AGL</td>\n",
              "      <td>0</td>\n",
              "    </tr>\n",
              "  </tbody>\n",
              "</table>\n",
              "</div>"
            ],
            "text/plain": [
              "           victim_id incident_time incident_date incident_location  \\\n",
              "0  VIC20120001987267      22:23:19    07-11-2012     Subhash Nagar   \n",
              "1  VIC20110002147887      20:23:09    02-11-2011       Coro Nation   \n",
              "2  VIC20090001391483      20:37:15    25-07-2009       Kewal Vihar   \n",
              "3  VIC20120000900722      15:20:22    19-05-2012           I S B T   \n",
              "4  VIC20100001241285      16:22:17    12-06-2010     Sahaspur Ambu   \n",
              "\n",
              "  incident_tehsil                                 cause_of_emergency  \\\n",
              "0          Raipur                        Multiple Vehicular Incident   \n",
              "1          Raipur                                2 Wheeler accidents   \n",
              "2          Raipur  Non motorised vehicle accidents(Bullock cart,B...   \n",
              "3          Raipur                                2 Wheeler accidents   \n",
              "4        Sahaspur                                2 Wheeler accidents   \n",
              "\n",
              "   base_to_scene_distance  scene_to_hospital_distance roadway_feature  \\\n",
              "0                      13                          12             CUR   \n",
              "1                       1                           5             CUR   \n",
              "2                       2                           2             INT   \n",
              "3                       8                           4             CUR   \n",
              "4                       1                          26             CUR   \n",
              "\n",
              "  road_type surrounding_area  criticality  \n",
              "0       HIW              FOR            0  \n",
              "1       HIW              AGL            0  \n",
              "2       LOC             HOSP            0  \n",
              "3       HIW              HIL            0  \n",
              "4       HIW              AGL            0  "
            ]
          },
          "metadata": {
            "tags": []
          },
          "execution_count": 176
        }
      ]
    },
    {
      "metadata": {
        "id": "kdGaZLmvSbz2",
        "colab_type": "code",
        "colab": {
          "autoexec": {
            "startup": false,
            "wait_interval": 0
          }
        }
      },
      "cell_type": "code",
      "source": [
        "df=df.drop('victim_id',axis=1)"
      ],
      "execution_count": 0,
      "outputs": []
    },
    {
      "metadata": {
        "id": "pm1XNR-R3WoV",
        "colab_type": "text"
      },
      "cell_type": "markdown",
      "source": [
        "**FEATURE ENGINEERING**"
      ]
    },
    {
      "metadata": {
        "id": "2_TWYggK3kqX",
        "colab_type": "code",
        "colab": {
          "autoexec": {
            "startup": false,
            "wait_interval": 0
          }
        }
      },
      "cell_type": "code",
      "source": [
        "incident_count=df['incident_location'].value_counts()"
      ],
      "execution_count": 0,
      "outputs": []
    },
    {
      "metadata": {
        "id": "hxUiQf1l3lBP",
        "colab_type": "code",
        "colab": {
          "autoexec": {
            "startup": false,
            "wait_interval": 0
          }
        }
      },
      "cell_type": "code",
      "source": [
        "keys=incident_count.keys()"
      ],
      "execution_count": 0,
      "outputs": []
    },
    {
      "metadata": {
        "id": "y9gWTzox3k81",
        "colab_type": "code",
        "colab": {
          "autoexec": {
            "startup": false,
            "wait_interval": 0
          }
        }
      },
      "cell_type": "code",
      "source": [
        "ans1={}"
      ],
      "execution_count": 0,
      "outputs": []
    },
    {
      "metadata": {
        "id": "dhtVO2Bk3k5N",
        "colab_type": "code",
        "colab": {
          "autoexec": {
            "startup": false,
            "wait_interval": 0
          }
        }
      },
      "cell_type": "code",
      "source": [
        "for i in range(len(incident_count)):\n",
        "    index=keys[i]\n",
        "    positive=len(df[df['incident_location']==index][df[df['incident_location']==index]['criticality']==1])\n",
        "    if positive > 3 :\n",
        "        ans1.update({index:positive})"
      ],
      "execution_count": 0,
      "outputs": []
    },
    {
      "metadata": {
        "id": "BxFTQwO_4TGW",
        "colab_type": "code",
        "colab": {
          "autoexec": {
            "startup": false,
            "wait_interval": 0
          }
        }
      },
      "cell_type": "code",
      "source": [
        "city=['Demo Ambu','Doiwala Ambu','Premnagar Ambu','Raipur','Raiwala','Rishikesh','Selaqui','Vikasnagar']"
      ],
      "execution_count": 0,
      "outputs": []
    },
    {
      "metadata": {
        "id": "XnYQdluH4UnW",
        "colab_type": "code",
        "colab": {
          "autoexec": {
            "startup": false,
            "wait_interval": 0
          }
        }
      },
      "cell_type": "code",
      "source": [
        "def iscity(x):\n",
        "    flag=0\n",
        "    for i in range(len(city)):\n",
        "        if x==city[i]:\n",
        "            flag=1\n",
        "    return flag"
      ],
      "execution_count": 0,
      "outputs": []
    },
    {
      "metadata": {
        "id": "NKdBd8T14UkO",
        "colab_type": "code",
        "colab": {
          "autoexec": {
            "startup": false,
            "wait_interval": 0
          }
        }
      },
      "cell_type": "code",
      "source": [
        "df['Sensitive_city']=df['incident_location'].map(lambda m: iscity(m))"
      ],
      "execution_count": 0,
      "outputs": []
    },
    {
      "metadata": {
        "id": "L6XO_LLL4UfT",
        "colab_type": "code",
        "colab": {
          "autoexec": {
            "startup": false,
            "wait_interval": 0
          }
        }
      },
      "cell_type": "code",
      "source": [
        "df['incident_time'] =  pd.to_datetime(df['incident_time'])"
      ],
      "execution_count": 0,
      "outputs": []
    },
    {
      "metadata": {
        "id": "BYndVr4d4o0g",
        "colab_type": "code",
        "colab": {
          "autoexec": {
            "startup": false,
            "wait_interval": 0
          }
        }
      },
      "cell_type": "code",
      "source": [
        "def con2quad(x):\n",
        "    if(x>=pd.to_datetime('00:00:00') and x<=pd.to_datetime('04:00:00')):\n",
        "        return 't1'\n",
        "    if(x>=pd.to_datetime('04:00:01') and x<=pd.to_datetime('08:00:00')):\n",
        "        return 't2'\n",
        "    if(x>=pd.to_datetime('08:00:01') and x<=pd.to_datetime('12:00:00')):\n",
        "        return 't3'\n",
        "    if(x>=pd.to_datetime('12:00:01') and x<=pd.to_datetime('17:00:00')):\n",
        "        return 't4'\n",
        "    if(x>=pd.to_datetime('17:00:01') and x<=pd.to_datetime('23:00:00')):\n",
        "        return 't5'\n",
        "    if(x>=pd.to_datetime('23:00:01') and x<=pd.to_datetime('23:59:59')):\n",
        "        return 't1'"
      ],
      "execution_count": 0,
      "outputs": []
    },
    {
      "metadata": {
        "id": "D0LB2mHP4oxM",
        "colab_type": "code",
        "colab": {
          "autoexec": {
            "startup": false,
            "wait_interval": 0
          }
        }
      },
      "cell_type": "code",
      "source": [
        "df['time_quarter'] = df['incident_time'].map(lambda m: con2quad(m))"
      ],
      "execution_count": 0,
      "outputs": []
    },
    {
      "metadata": {
        "id": "lt4Tv3Y9Oyne",
        "colab_type": "code",
        "colab": {
          "autoexec": {
            "startup": false,
            "wait_interval": 0
          }
        }
      },
      "cell_type": "code",
      "source": [
        "df['incident_date']=pd.to_datetime(df['incident_date'])"
      ],
      "execution_count": 0,
      "outputs": []
    },
    {
      "metadata": {
        "id": "qE0w80RIOrMY",
        "colab_type": "code",
        "colab": {
          "autoexec": {
            "startup": false,
            "wait_interval": 0
          }
        }
      },
      "cell_type": "code",
      "source": [
        "df['weekday'] = df['incident_date'].dt.dayofweek"
      ],
      "execution_count": 0,
      "outputs": []
    },
    {
      "metadata": {
        "id": "la9__lq54ot-",
        "colab_type": "code",
        "colab": {
          "autoexec": {
            "startup": false,
            "wait_interval": 0
          }
        }
      },
      "cell_type": "code",
      "source": [
        "######################################################################"
      ],
      "execution_count": 0,
      "outputs": []
    },
    {
      "metadata": {
        "id": "T8G4rseqfnlb",
        "colab_type": "code",
        "colab": {
          "autoexec": {
            "startup": false,
            "wait_interval": 0
          }
        }
      },
      "cell_type": "code",
      "source": [
        "df=df.drop('incident_time',axis=1)"
      ],
      "execution_count": 0,
      "outputs": []
    },
    {
      "metadata": {
        "id": "kgUzDL0RPE_Q",
        "colab_type": "code",
        "colab": {
          "autoexec": {
            "startup": false,
            "wait_interval": 0
          }
        }
      },
      "cell_type": "code",
      "source": [
        "df=df.drop('incident_date',axis=1)"
      ],
      "execution_count": 0,
      "outputs": []
    },
    {
      "metadata": {
        "id": "d5EhNCVEfrJk",
        "colab_type": "code",
        "colab": {
          "autoexec": {
            "startup": false,
            "wait_interval": 0
          }
        }
      },
      "cell_type": "code",
      "source": [
        "df=df.drop('incident_location',axis=1)"
      ],
      "execution_count": 0,
      "outputs": []
    },
    {
      "metadata": {
        "id": "ocoH95o8ftJt",
        "colab_type": "code",
        "colab": {
          "autoexec": {
            "startup": false,
            "wait_interval": 0
          },
          "output_extras": [
            {
              "item_id": 1
            }
          ],
          "base_uri": "https://localhost:8080/",
          "height": 275
        },
        "outputId": "c7f20d9a-0496-4c6c-a6ef-bdf93a9664f1",
        "executionInfo": {
          "status": "ok",
          "timestamp": 1521395625883,
          "user_tz": -330,
          "elapsed": 832,
          "user": {
            "displayName": "Nitesh Tiwari",
            "photoUrl": "//lh3.googleusercontent.com/-9Nv5B-a3Ey0/AAAAAAAAAAI/AAAAAAAAAfk/2lqa15W2g-k/s50-c-k-no/photo.jpg",
            "userId": "103011910892907793236"
          }
        }
      },
      "cell_type": "code",
      "source": [
        "df.head()"
      ],
      "execution_count": 313,
      "outputs": [
        {
          "output_type": "execute_result",
          "data": {
            "text/html": [
              "<div>\n",
              "<style scoped>\n",
              "    .dataframe tbody tr th:only-of-type {\n",
              "        vertical-align: middle;\n",
              "    }\n",
              "\n",
              "    .dataframe tbody tr th {\n",
              "        vertical-align: top;\n",
              "    }\n",
              "\n",
              "    .dataframe thead th {\n",
              "        text-align: right;\n",
              "    }\n",
              "</style>\n",
              "<table border=\"1\" class=\"dataframe\">\n",
              "  <thead>\n",
              "    <tr style=\"text-align: right;\">\n",
              "      <th></th>\n",
              "      <th>incident_tehsil</th>\n",
              "      <th>cause_of_emergency</th>\n",
              "      <th>base_to_scene_distance</th>\n",
              "      <th>scene_to_hospital_distance</th>\n",
              "      <th>roadway_feature</th>\n",
              "      <th>road_type</th>\n",
              "      <th>surrounding_area</th>\n",
              "      <th>criticality</th>\n",
              "      <th>Sensitive_city</th>\n",
              "      <th>time_quarter</th>\n",
              "      <th>weekday</th>\n",
              "    </tr>\n",
              "  </thead>\n",
              "  <tbody>\n",
              "    <tr>\n",
              "      <th>0</th>\n",
              "      <td>Raipur</td>\n",
              "      <td>Multiple Vehicular Incident</td>\n",
              "      <td>13</td>\n",
              "      <td>12</td>\n",
              "      <td>CUR</td>\n",
              "      <td>HIW</td>\n",
              "      <td>FOR</td>\n",
              "      <td>0</td>\n",
              "      <td>0</td>\n",
              "      <td>t5</td>\n",
              "      <td>2</td>\n",
              "    </tr>\n",
              "    <tr>\n",
              "      <th>1</th>\n",
              "      <td>Raipur</td>\n",
              "      <td>2 Wheeler accidents</td>\n",
              "      <td>1</td>\n",
              "      <td>5</td>\n",
              "      <td>CUR</td>\n",
              "      <td>HIW</td>\n",
              "      <td>AGL</td>\n",
              "      <td>0</td>\n",
              "      <td>0</td>\n",
              "      <td>t5</td>\n",
              "      <td>4</td>\n",
              "    </tr>\n",
              "    <tr>\n",
              "      <th>2</th>\n",
              "      <td>Raipur</td>\n",
              "      <td>Non motorised vehicle accidents(Bullock cart,B...</td>\n",
              "      <td>2</td>\n",
              "      <td>2</td>\n",
              "      <td>INT</td>\n",
              "      <td>LOC</td>\n",
              "      <td>HOSP</td>\n",
              "      <td>0</td>\n",
              "      <td>0</td>\n",
              "      <td>t5</td>\n",
              "      <td>5</td>\n",
              "    </tr>\n",
              "    <tr>\n",
              "      <th>3</th>\n",
              "      <td>Raipur</td>\n",
              "      <td>2 Wheeler accidents</td>\n",
              "      <td>8</td>\n",
              "      <td>4</td>\n",
              "      <td>CUR</td>\n",
              "      <td>HIW</td>\n",
              "      <td>HIL</td>\n",
              "      <td>0</td>\n",
              "      <td>0</td>\n",
              "      <td>t4</td>\n",
              "      <td>5</td>\n",
              "    </tr>\n",
              "    <tr>\n",
              "      <th>4</th>\n",
              "      <td>Sahaspur</td>\n",
              "      <td>2 Wheeler accidents</td>\n",
              "      <td>1</td>\n",
              "      <td>26</td>\n",
              "      <td>CUR</td>\n",
              "      <td>HIW</td>\n",
              "      <td>AGL</td>\n",
              "      <td>0</td>\n",
              "      <td>0</td>\n",
              "      <td>t4</td>\n",
              "      <td>0</td>\n",
              "    </tr>\n",
              "  </tbody>\n",
              "</table>\n",
              "</div>"
            ],
            "text/plain": [
              "  incident_tehsil                                 cause_of_emergency  \\\n",
              "0          Raipur                        Multiple Vehicular Incident   \n",
              "1          Raipur                                2 Wheeler accidents   \n",
              "2          Raipur  Non motorised vehicle accidents(Bullock cart,B...   \n",
              "3          Raipur                                2 Wheeler accidents   \n",
              "4        Sahaspur                                2 Wheeler accidents   \n",
              "\n",
              "   base_to_scene_distance  scene_to_hospital_distance roadway_feature  \\\n",
              "0                      13                          12             CUR   \n",
              "1                       1                           5             CUR   \n",
              "2                       2                           2             INT   \n",
              "3                       8                           4             CUR   \n",
              "4                       1                          26             CUR   \n",
              "\n",
              "  road_type surrounding_area  criticality Sensitive_city time_quarter weekday  \n",
              "0       HIW              FOR            0              0           t5       2  \n",
              "1       HIW              AGL            0              0           t5       4  \n",
              "2       LOC             HOSP            0              0           t5       5  \n",
              "3       HIW              HIL            0              0           t4       5  \n",
              "4       HIW              AGL            0              0           t4       0  "
            ]
          },
          "metadata": {
            "tags": []
          },
          "execution_count": 313
        }
      ]
    },
    {
      "metadata": {
        "id": "sYtd3sLroD-B",
        "colab_type": "code",
        "colab": {
          "autoexec": {
            "startup": false,
            "wait_interval": 0
          }
        }
      },
      "cell_type": "code",
      "source": [
        "df['time_quarter']=df['time_quarter'].astype('object')\n",
        "df['Sensitive_city']=df['Sensitive_city'].astype('object')\n",
        "df['weekday']=df['weekday'].astype('object')"
      ],
      "execution_count": 0,
      "outputs": []
    },
    {
      "metadata": {
        "id": "bIxKkVQNnhBS",
        "colab_type": "code",
        "colab": {
          "autoexec": {
            "startup": false,
            "wait_interval": 0
          }
        }
      },
      "cell_type": "code",
      "source": [
        "##################################################################################"
      ],
      "execution_count": 0,
      "outputs": []
    },
    {
      "metadata": {
        "id": "jYe0Ttf0CgJ1",
        "colab_type": "code",
        "colab": {
          "autoexec": {
            "startup": false,
            "wait_interval": 0
          }
        }
      },
      "cell_type": "code",
      "source": [
        "df_features=df"
      ],
      "execution_count": 0,
      "outputs": []
    },
    {
      "metadata": {
        "id": "OkZB675lGIq6",
        "colab_type": "code",
        "colab": {
          "autoexec": {
            "startup": false,
            "wait_interval": 0
          }
        }
      },
      "cell_type": "code",
      "source": [
        "#df_features=df_features.drop('Sensitive_city',axis=1)"
      ],
      "execution_count": 0,
      "outputs": []
    },
    {
      "metadata": {
        "id": "y-RidIb9fxzc",
        "colab_type": "code",
        "colab": {
          "autoexec": {
            "startup": false,
            "wait_interval": 0
          }
        }
      },
      "cell_type": "code",
      "source": [
        "y = df_features.criticality\n",
        "X = df_features.drop('criticality', axis=1)"
      ],
      "execution_count": 0,
      "outputs": []
    },
    {
      "metadata": {
        "id": "NlaE6MpGkc9b",
        "colab_type": "code",
        "colab": {
          "autoexec": {
            "startup": false,
            "wait_interval": 0
          },
          "output_extras": [
            {
              "item_id": 1
            }
          ],
          "base_uri": "https://localhost:8080/",
          "height": 221
        },
        "outputId": "0b73878d-65ef-487d-9c1f-5aaa80e5140b",
        "executionInfo": {
          "status": "ok",
          "timestamp": 1521393190373,
          "user_tz": -330,
          "elapsed": 852,
          "user": {
            "displayName": "Nitesh Tiwari",
            "photoUrl": "//lh3.googleusercontent.com/-9Nv5B-a3Ey0/AAAAAAAAAAI/AAAAAAAAAfk/2lqa15W2g-k/s50-c-k-no/photo.jpg",
            "userId": "103011910892907793236"
          }
        }
      },
      "cell_type": "code",
      "source": [
        "X.head()"
      ],
      "execution_count": 197,
      "outputs": [
        {
          "output_type": "execute_result",
          "data": {
            "text/html": [
              "<div>\n",
              "<style scoped>\n",
              "    .dataframe tbody tr th:only-of-type {\n",
              "        vertical-align: middle;\n",
              "    }\n",
              "\n",
              "    .dataframe tbody tr th {\n",
              "        vertical-align: top;\n",
              "    }\n",
              "\n",
              "    .dataframe thead th {\n",
              "        text-align: right;\n",
              "    }\n",
              "</style>\n",
              "<table border=\"1\" class=\"dataframe\">\n",
              "  <thead>\n",
              "    <tr style=\"text-align: right;\">\n",
              "      <th></th>\n",
              "      <th>incident_tehsil</th>\n",
              "      <th>cause_of_emergency</th>\n",
              "      <th>base_to_scene_distance</th>\n",
              "      <th>scene_to_hospital_distance</th>\n",
              "      <th>roadway_feature</th>\n",
              "      <th>road_type</th>\n",
              "      <th>Sensitive_city</th>\n",
              "      <th>time_quarter</th>\n",
              "    </tr>\n",
              "  </thead>\n",
              "  <tbody>\n",
              "    <tr>\n",
              "      <th>0</th>\n",
              "      <td>Raipur</td>\n",
              "      <td>Multiple Vehicular Incident</td>\n",
              "      <td>13</td>\n",
              "      <td>12</td>\n",
              "      <td>CUR</td>\n",
              "      <td>HIW</td>\n",
              "      <td>0</td>\n",
              "      <td>t5</td>\n",
              "    </tr>\n",
              "    <tr>\n",
              "      <th>1</th>\n",
              "      <td>Raipur</td>\n",
              "      <td>2 Wheeler accidents</td>\n",
              "      <td>1</td>\n",
              "      <td>5</td>\n",
              "      <td>CUR</td>\n",
              "      <td>HIW</td>\n",
              "      <td>0</td>\n",
              "      <td>t5</td>\n",
              "    </tr>\n",
              "    <tr>\n",
              "      <th>2</th>\n",
              "      <td>Raipur</td>\n",
              "      <td>Non motorised vehicle accidents(Bullock cart,B...</td>\n",
              "      <td>2</td>\n",
              "      <td>2</td>\n",
              "      <td>INT</td>\n",
              "      <td>LOC</td>\n",
              "      <td>0</td>\n",
              "      <td>t5</td>\n",
              "    </tr>\n",
              "    <tr>\n",
              "      <th>3</th>\n",
              "      <td>Raipur</td>\n",
              "      <td>2 Wheeler accidents</td>\n",
              "      <td>8</td>\n",
              "      <td>4</td>\n",
              "      <td>CUR</td>\n",
              "      <td>HIW</td>\n",
              "      <td>0</td>\n",
              "      <td>t4</td>\n",
              "    </tr>\n",
              "    <tr>\n",
              "      <th>4</th>\n",
              "      <td>Sahaspur</td>\n",
              "      <td>2 Wheeler accidents</td>\n",
              "      <td>1</td>\n",
              "      <td>26</td>\n",
              "      <td>CUR</td>\n",
              "      <td>HIW</td>\n",
              "      <td>0</td>\n",
              "      <td>t4</td>\n",
              "    </tr>\n",
              "  </tbody>\n",
              "</table>\n",
              "</div>"
            ],
            "text/plain": [
              "  incident_tehsil                                 cause_of_emergency  \\\n",
              "0          Raipur                        Multiple Vehicular Incident   \n",
              "1          Raipur                                2 Wheeler accidents   \n",
              "2          Raipur  Non motorised vehicle accidents(Bullock cart,B...   \n",
              "3          Raipur                                2 Wheeler accidents   \n",
              "4        Sahaspur                                2 Wheeler accidents   \n",
              "\n",
              "   base_to_scene_distance  scene_to_hospital_distance roadway_feature  \\\n",
              "0                      13                          12             CUR   \n",
              "1                       1                           5             CUR   \n",
              "2                       2                           2             INT   \n",
              "3                       8                           4             CUR   \n",
              "4                       1                          26             CUR   \n",
              "\n",
              "  road_type Sensitive_city time_quarter  \n",
              "0       HIW              0           t5  \n",
              "1       HIW              0           t5  \n",
              "2       LOC              0           t5  \n",
              "3       HIW              0           t4  \n",
              "4       HIW              0           t4  "
            ]
          },
          "metadata": {
            "tags": []
          },
          "execution_count": 197
        }
      ]
    },
    {
      "metadata": {
        "id": "QOrER2GGmqfM",
        "colab_type": "code",
        "colab": {
          "autoexec": {
            "startup": false,
            "wait_interval": 0
          }
        }
      },
      "cell_type": "code",
      "source": [
        "X=pd.get_dummies(X)"
      ],
      "execution_count": 0,
      "outputs": []
    },
    {
      "metadata": {
        "id": "9UGApqkbpi4k",
        "colab_type": "code",
        "colab": {
          "autoexec": {
            "startup": false,
            "wait_interval": 0
          },
          "output_extras": [
            {
              "item_id": 1
            }
          ],
          "base_uri": "https://localhost:8080/",
          "height": 338
        },
        "outputId": "3152b707-5576-4e56-b926-02d14ed39d16",
        "executionInfo": {
          "status": "ok",
          "timestamp": 1521395588246,
          "user_tz": -330,
          "elapsed": 1034,
          "user": {
            "displayName": "Nitesh Tiwari",
            "photoUrl": "//lh3.googleusercontent.com/-9Nv5B-a3Ey0/AAAAAAAAAAI/AAAAAAAAAfk/2lqa15W2g-k/s50-c-k-no/photo.jpg",
            "userId": "103011910892907793236"
          }
        }
      },
      "cell_type": "code",
      "source": [
        "X.head()"
      ],
      "execution_count": 311,
      "outputs": [
        {
          "output_type": "execute_result",
          "data": {
            "text/html": [
              "<div>\n",
              "<style scoped>\n",
              "    .dataframe tbody tr th:only-of-type {\n",
              "        vertical-align: middle;\n",
              "    }\n",
              "\n",
              "    .dataframe tbody tr th {\n",
              "        vertical-align: top;\n",
              "    }\n",
              "\n",
              "    .dataframe thead th {\n",
              "        text-align: right;\n",
              "    }\n",
              "</style>\n",
              "<table border=\"1\" class=\"dataframe\">\n",
              "  <thead>\n",
              "    <tr style=\"text-align: right;\">\n",
              "      <th></th>\n",
              "      <th>incident_time</th>\n",
              "      <th>base_to_scene_distance</th>\n",
              "      <th>scene_to_hospital_distance</th>\n",
              "      <th>incident_tehsil_Chakrata</th>\n",
              "      <th>incident_tehsil_Dehradun</th>\n",
              "      <th>incident_tehsil_Doiwala</th>\n",
              "      <th>incident_tehsil_Kalsi</th>\n",
              "      <th>incident_tehsil_Raipur</th>\n",
              "      <th>incident_tehsil_Sahaspur</th>\n",
              "      <th>incident_tehsil_Vikasnagar</th>\n",
              "      <th>...</th>\n",
              "      <th>time_quarter_t3</th>\n",
              "      <th>time_quarter_t4</th>\n",
              "      <th>time_quarter_t5</th>\n",
              "      <th>weekday_0</th>\n",
              "      <th>weekday_1</th>\n",
              "      <th>weekday_2</th>\n",
              "      <th>weekday_3</th>\n",
              "      <th>weekday_4</th>\n",
              "      <th>weekday_5</th>\n",
              "      <th>weekday_6</th>\n",
              "    </tr>\n",
              "  </thead>\n",
              "  <tbody>\n",
              "    <tr>\n",
              "      <th>0</th>\n",
              "      <td>2018-03-18 22:23:19</td>\n",
              "      <td>13</td>\n",
              "      <td>12</td>\n",
              "      <td>0</td>\n",
              "      <td>0</td>\n",
              "      <td>0</td>\n",
              "      <td>0</td>\n",
              "      <td>1</td>\n",
              "      <td>0</td>\n",
              "      <td>0</td>\n",
              "      <td>...</td>\n",
              "      <td>0</td>\n",
              "      <td>0</td>\n",
              "      <td>1</td>\n",
              "      <td>0</td>\n",
              "      <td>0</td>\n",
              "      <td>1</td>\n",
              "      <td>0</td>\n",
              "      <td>0</td>\n",
              "      <td>0</td>\n",
              "      <td>0</td>\n",
              "    </tr>\n",
              "    <tr>\n",
              "      <th>1</th>\n",
              "      <td>2018-03-18 20:23:09</td>\n",
              "      <td>1</td>\n",
              "      <td>5</td>\n",
              "      <td>0</td>\n",
              "      <td>0</td>\n",
              "      <td>0</td>\n",
              "      <td>0</td>\n",
              "      <td>1</td>\n",
              "      <td>0</td>\n",
              "      <td>0</td>\n",
              "      <td>...</td>\n",
              "      <td>0</td>\n",
              "      <td>0</td>\n",
              "      <td>1</td>\n",
              "      <td>0</td>\n",
              "      <td>0</td>\n",
              "      <td>0</td>\n",
              "      <td>0</td>\n",
              "      <td>1</td>\n",
              "      <td>0</td>\n",
              "      <td>0</td>\n",
              "    </tr>\n",
              "    <tr>\n",
              "      <th>2</th>\n",
              "      <td>2018-03-18 20:37:15</td>\n",
              "      <td>2</td>\n",
              "      <td>2</td>\n",
              "      <td>0</td>\n",
              "      <td>0</td>\n",
              "      <td>0</td>\n",
              "      <td>0</td>\n",
              "      <td>1</td>\n",
              "      <td>0</td>\n",
              "      <td>0</td>\n",
              "      <td>...</td>\n",
              "      <td>0</td>\n",
              "      <td>0</td>\n",
              "      <td>1</td>\n",
              "      <td>0</td>\n",
              "      <td>0</td>\n",
              "      <td>0</td>\n",
              "      <td>0</td>\n",
              "      <td>0</td>\n",
              "      <td>1</td>\n",
              "      <td>0</td>\n",
              "    </tr>\n",
              "    <tr>\n",
              "      <th>3</th>\n",
              "      <td>2018-03-18 15:20:22</td>\n",
              "      <td>8</td>\n",
              "      <td>4</td>\n",
              "      <td>0</td>\n",
              "      <td>0</td>\n",
              "      <td>0</td>\n",
              "      <td>0</td>\n",
              "      <td>1</td>\n",
              "      <td>0</td>\n",
              "      <td>0</td>\n",
              "      <td>...</td>\n",
              "      <td>0</td>\n",
              "      <td>1</td>\n",
              "      <td>0</td>\n",
              "      <td>0</td>\n",
              "      <td>0</td>\n",
              "      <td>0</td>\n",
              "      <td>0</td>\n",
              "      <td>0</td>\n",
              "      <td>1</td>\n",
              "      <td>0</td>\n",
              "    </tr>\n",
              "    <tr>\n",
              "      <th>4</th>\n",
              "      <td>2018-03-18 16:22:17</td>\n",
              "      <td>1</td>\n",
              "      <td>26</td>\n",
              "      <td>0</td>\n",
              "      <td>0</td>\n",
              "      <td>0</td>\n",
              "      <td>0</td>\n",
              "      <td>0</td>\n",
              "      <td>1</td>\n",
              "      <td>0</td>\n",
              "      <td>...</td>\n",
              "      <td>0</td>\n",
              "      <td>1</td>\n",
              "      <td>0</td>\n",
              "      <td>1</td>\n",
              "      <td>0</td>\n",
              "      <td>0</td>\n",
              "      <td>0</td>\n",
              "      <td>0</td>\n",
              "      <td>0</td>\n",
              "      <td>0</td>\n",
              "    </tr>\n",
              "  </tbody>\n",
              "</table>\n",
              "<p>5 rows × 51 columns</p>\n",
              "</div>"
            ],
            "text/plain": [
              "        incident_time  base_to_scene_distance  scene_to_hospital_distance  \\\n",
              "0 2018-03-18 22:23:19                      13                          12   \n",
              "1 2018-03-18 20:23:09                       1                           5   \n",
              "2 2018-03-18 20:37:15                       2                           2   \n",
              "3 2018-03-18 15:20:22                       8                           4   \n",
              "4 2018-03-18 16:22:17                       1                          26   \n",
              "\n",
              "   incident_tehsil_Chakrata  incident_tehsil_Dehradun  \\\n",
              "0                         0                         0   \n",
              "1                         0                         0   \n",
              "2                         0                         0   \n",
              "3                         0                         0   \n",
              "4                         0                         0   \n",
              "\n",
              "   incident_tehsil_Doiwala  incident_tehsil_Kalsi  incident_tehsil_Raipur  \\\n",
              "0                        0                      0                       1   \n",
              "1                        0                      0                       1   \n",
              "2                        0                      0                       1   \n",
              "3                        0                      0                       1   \n",
              "4                        0                      0                       0   \n",
              "\n",
              "   incident_tehsil_Sahaspur  incident_tehsil_Vikasnagar    ...      \\\n",
              "0                         0                           0    ...       \n",
              "1                         0                           0    ...       \n",
              "2                         0                           0    ...       \n",
              "3                         0                           0    ...       \n",
              "4                         1                           0    ...       \n",
              "\n",
              "   time_quarter_t3  time_quarter_t4  time_quarter_t5  weekday_0  weekday_1  \\\n",
              "0                0                0                1          0          0   \n",
              "1                0                0                1          0          0   \n",
              "2                0                0                1          0          0   \n",
              "3                0                1                0          0          0   \n",
              "4                0                1                0          1          0   \n",
              "\n",
              "   weekday_2  weekday_3  weekday_4  weekday_5  weekday_6  \n",
              "0          1          0          0          0          0  \n",
              "1          0          0          1          0          0  \n",
              "2          0          0          0          1          0  \n",
              "3          0          0          0          1          0  \n",
              "4          0          0          0          0          0  \n",
              "\n",
              "[5 rows x 51 columns]"
            ]
          },
          "metadata": {
            "tags": []
          },
          "execution_count": 311
        }
      ]
    },
    {
      "metadata": {
        "id": "MBkEtTg-9eMG",
        "colab_type": "code",
        "colab": {
          "autoexec": {
            "startup": false,
            "wait_interval": 0
          }
        }
      },
      "cell_type": "code",
      "source": [
        "TrainXcol=X.columns"
      ],
      "execution_count": 0,
      "outputs": []
    },
    {
      "metadata": {
        "id": "-vIYdUfTpkaD",
        "colab_type": "code",
        "colab": {
          "autoexec": {
            "startup": false,
            "wait_interval": 0
          }
        }
      },
      "cell_type": "code",
      "source": [
        "#Splitting the dataset into the Training set and Test set\n",
        "from sklearn.model_selection import train_test_split\n",
        "X_train, X_test, y_train, y_test = train_test_split(X, y, test_size = 0.1, random_state = 0)"
      ],
      "execution_count": 0,
      "outputs": []
    },
    {
      "metadata": {
        "id": "fiRXLtf-p7Xb",
        "colab_type": "code",
        "colab": {
          "autoexec": {
            "startup": false,
            "wait_interval": 0
          },
          "output_extras": [
            {
              "item_id": 1
            }
          ],
          "base_uri": "https://localhost:8080/",
          "height": 34
        },
        "outputId": "6ca447bd-3a98-4ee4-b12e-a65703cdbb6c",
        "executionInfo": {
          "status": "ok",
          "timestamp": 1521394200045,
          "user_tz": -330,
          "elapsed": 1109,
          "user": {
            "displayName": "Nitesh Tiwari",
            "photoUrl": "//lh3.googleusercontent.com/-9Nv5B-a3Ey0/AAAAAAAAAAI/AAAAAAAAAfk/2lqa15W2g-k/s50-c-k-no/photo.jpg",
            "userId": "103011910892907793236"
          }
        }
      },
      "cell_type": "code",
      "source": [
        "X_train.shape"
      ],
      "execution_count": 257,
      "outputs": [
        {
          "output_type": "execute_result",
          "data": {
            "text/plain": [
              "(10599, 41)"
            ]
          },
          "metadata": {
            "tags": []
          },
          "execution_count": 257
        }
      ]
    },
    {
      "metadata": {
        "id": "cFxwfPEep-5j",
        "colab_type": "code",
        "colab": {
          "autoexec": {
            "startup": false,
            "wait_interval": 0
          },
          "output_extras": [
            {
              "item_id": 1
            }
          ],
          "base_uri": "https://localhost:8080/",
          "height": 34
        },
        "outputId": "4d4a1bfb-5b40-4686-a79e-00cc7d23861b",
        "executionInfo": {
          "status": "ok",
          "timestamp": 1521391996852,
          "user_tz": -330,
          "elapsed": 1233,
          "user": {
            "displayName": "Nitesh Tiwari",
            "photoUrl": "//lh3.googleusercontent.com/-9Nv5B-a3Ey0/AAAAAAAAAAI/AAAAAAAAAfk/2lqa15W2g-k/s50-c-k-no/photo.jpg",
            "userId": "103011910892907793236"
          }
        }
      },
      "cell_type": "code",
      "source": [
        "X_test.shape"
      ],
      "execution_count": 137,
      "outputs": [
        {
          "output_type": "execute_result",
          "data": {
            "text/plain": [
              "(1178, 43)"
            ]
          },
          "metadata": {
            "tags": []
          },
          "execution_count": 137
        }
      ]
    },
    {
      "metadata": {
        "id": "I8BLWRr16bVY",
        "colab_type": "code",
        "colab": {
          "autoexec": {
            "startup": false,
            "wait_interval": 0
          },
          "output_extras": [
            {
              "item_id": 1
            }
          ],
          "base_uri": "https://localhost:8080/",
          "height": 71
        },
        "outputId": "da09f296-e72a-413c-a35c-00c3a9bda6aa",
        "executionInfo": {
          "status": "ok",
          "timestamp": 1521391649830,
          "user_tz": -330,
          "elapsed": 6710,
          "user": {
            "displayName": "Nitesh Tiwari",
            "photoUrl": "//lh3.googleusercontent.com/-9Nv5B-a3Ey0/AAAAAAAAAAI/AAAAAAAAAfk/2lqa15W2g-k/s50-c-k-no/photo.jpg",
            "userId": "103011910892907793236"
          }
        }
      },
      "cell_type": "code",
      "source": [
        "\"\"\"from sklearn.linear_model import RandomizedLogisticRegression\n",
        "randomlr = RandomizedLogisticRegression(selection_threshold=0.25)\n",
        "X_train = randomlr.fit_transform(X_train,y_train)\n",
        "X_test = randomlr.transform(X_test)\"\"\""
      ],
      "execution_count": 113,
      "outputs": [
        {
          "output_type": "stream",
          "text": [
            "/usr/local/lib/python3.6/dist-packages/sklearn/utils/deprecation.py:58: DeprecationWarning: Class RandomizedLogisticRegression is deprecated; The class RandomizedLogisticRegression is deprecated in 0.19 and will be removed in 0.21.\n",
            "  warnings.warn(msg, category=DeprecationWarning)\n"
          ],
          "name": "stderr"
        }
      ]
    },
    {
      "metadata": {
        "id": "fuksC_1AqEi-",
        "colab_type": "text"
      },
      "cell_type": "markdown",
      "source": [
        "**SMOTE algorithm (Synthetic Minority Oversampling Technique)**"
      ]
    },
    {
      "metadata": {
        "id": "LDWimqVgqVED",
        "colab_type": "code",
        "colab": {
          "autoexec": {
            "startup": false,
            "wait_interval": 0
          },
          "output_extras": [
            {
              "item_id": 13
            }
          ],
          "base_uri": "https://localhost:8080/",
          "height": 238
        },
        "outputId": "f4cacb43-d60e-4f0b-803b-bdf861d7f18b",
        "executionInfo": {
          "status": "ok",
          "timestamp": 1521389341853,
          "user_tz": -330,
          "elapsed": 52194,
          "user": {
            "displayName": "Nitesh Tiwari",
            "photoUrl": "//lh3.googleusercontent.com/-9Nv5B-a3Ey0/AAAAAAAAAAI/AAAAAAAAAfk/2lqa15W2g-k/s50-c-k-no/photo.jpg",
            "userId": "103011910892907793236"
          }
        }
      },
      "cell_type": "code",
      "source": [
        "!pip install -U imbalanced-learn"
      ],
      "execution_count": 29,
      "outputs": [
        {
          "output_type": "stream",
          "text": [
            "Collecting imbalanced-learn\n",
            "  Downloading imbalanced_learn-0.3.3-py3-none-any.whl (144kB)\n",
            "\u001b[K    100% |████████████████████████████████| 153kB 3.1MB/s \n",
            "\u001b[?25hCollecting scipy (from imbalanced-learn)\n",
            "  Downloading scipy-1.0.0-cp36-cp36m-manylinux1_x86_64.whl (50.0MB)\n",
            "\u001b[K    100% |████████████████████████████████| 50.0MB 25kB/s \n",
            "\u001b[?25hRequirement already up-to-date: numpy in /usr/local/lib/python3.6/dist-packages (from imbalanced-learn)\n",
            "Requirement already up-to-date: scikit-learn in /usr/local/lib/python3.6/dist-packages (from imbalanced-learn)\n",
            "Installing collected packages: scipy, imbalanced-learn\n",
            "  Found existing installation: scipy 0.19.1\n",
            "    Uninstalling scipy-0.19.1:\n",
            "      Successfully uninstalled scipy-0.19.1\n",
            "Successfully installed imbalanced-learn-0.3.3 scipy-1.0.0\n"
          ],
          "name": "stdout"
        }
      ]
    },
    {
      "metadata": {
        "id": "13udgHsqqGE6",
        "colab_type": "code",
        "colab": {
          "autoexec": {
            "startup": false,
            "wait_interval": 0
          }
        }
      },
      "cell_type": "code",
      "source": [
        "from imblearn.over_sampling import SMOTE \n",
        "sm = SMOTE(random_state=42,ratio=1.0)"
      ],
      "execution_count": 0,
      "outputs": []
    },
    {
      "metadata": {
        "id": "CkhGpxAEqJ4L",
        "colab_type": "code",
        "colab": {
          "autoexec": {
            "startup": false,
            "wait_interval": 0
          },
          "output_extras": [
            {
              "item_id": 1
            }
          ],
          "base_uri": "https://localhost:8080/",
          "height": 71
        },
        "outputId": "fea3ad0b-dfdd-4f30-bf66-e4e4588226d7",
        "executionInfo": {
          "status": "ok",
          "timestamp": 1521389351931,
          "user_tz": -330,
          "elapsed": 1401,
          "user": {
            "displayName": "Nitesh Tiwari",
            "photoUrl": "//lh3.googleusercontent.com/-9Nv5B-a3Ey0/AAAAAAAAAAI/AAAAAAAAAfk/2lqa15W2g-k/s50-c-k-no/photo.jpg",
            "userId": "103011910892907793236"
          }
        }
      },
      "cell_type": "code",
      "source": [
        "X_train, y_train = sm.fit_sample(X_train, y_train)"
      ],
      "execution_count": 31,
      "outputs": [
        {
          "output_type": "stream",
          "text": [
            "/usr/local/lib/python3.6/dist-packages/sklearn/utils/deprecation.py:77: DeprecationWarning: Function _ratio_float is deprecated; Use a float for 'ratio' is deprecated from version 0.2. The support will be removed in 0.4. Use a dict, str, or a callable instead.\n",
            "  warnings.warn(msg, category=DeprecationWarning)\n"
          ],
          "name": "stderr"
        }
      ]
    },
    {
      "metadata": {
        "id": "iW3Ym7BQqfga",
        "colab_type": "code",
        "colab": {
          "autoexec": {
            "startup": false,
            "wait_interval": 0
          },
          "output_extras": [
            {
              "item_id": 1
            }
          ],
          "base_uri": "https://localhost:8080/",
          "height": 34
        },
        "outputId": "33362d42-582f-45aa-9892-4e918a39f54d",
        "executionInfo": {
          "status": "ok",
          "timestamp": 1521389353886,
          "user_tz": -330,
          "elapsed": 727,
          "user": {
            "displayName": "Nitesh Tiwari",
            "photoUrl": "//lh3.googleusercontent.com/-9Nv5B-a3Ey0/AAAAAAAAAAI/AAAAAAAAAfk/2lqa15W2g-k/s50-c-k-no/photo.jpg",
            "userId": "103011910892907793236"
          }
        }
      },
      "cell_type": "code",
      "source": [
        "X_train.shape"
      ],
      "execution_count": 32,
      "outputs": [
        {
          "output_type": "execute_result",
          "data": {
            "text/plain": [
              "(20266, 43)"
            ]
          },
          "metadata": {
            "tags": []
          },
          "execution_count": 32
        }
      ]
    },
    {
      "metadata": {
        "id": "96jm-equuJAv",
        "colab_type": "code",
        "colab": {
          "autoexec": {
            "startup": false,
            "wait_interval": 0
          },
          "output_extras": [
            {
              "item_id": 1
            }
          ],
          "base_uri": "https://localhost:8080/",
          "height": 34
        },
        "outputId": "1449c3be-18f7-4640-e5fa-028e2cd77d45",
        "executionInfo": {
          "status": "ok",
          "timestamp": 1521389356128,
          "user_tz": -330,
          "elapsed": 814,
          "user": {
            "displayName": "Nitesh Tiwari",
            "photoUrl": "//lh3.googleusercontent.com/-9Nv5B-a3Ey0/AAAAAAAAAAI/AAAAAAAAAfk/2lqa15W2g-k/s50-c-k-no/photo.jpg",
            "userId": "103011910892907793236"
          }
        }
      },
      "cell_type": "code",
      "source": [
        "X_test.shape"
      ],
      "execution_count": 33,
      "outputs": [
        {
          "output_type": "execute_result",
          "data": {
            "text/plain": [
              "(1178, 43)"
            ]
          },
          "metadata": {
            "tags": []
          },
          "execution_count": 33
        }
      ]
    },
    {
      "metadata": {
        "id": "9iDzJ6znq2PC",
        "colab_type": "text"
      },
      "cell_type": "markdown",
      "source": [
        "**Modelling**"
      ]
    },
    {
      "metadata": {
        "id": "RA86v8lhrwTo",
        "colab_type": "text"
      },
      "cell_type": "markdown",
      "source": [
        "**SVM model**"
      ]
    },
    {
      "metadata": {
        "id": "v2unU08Zqi9D",
        "colab_type": "code",
        "colab": {
          "autoexec": {
            "startup": false,
            "wait_interval": 0
          }
        }
      },
      "cell_type": "code",
      "source": [
        "from sklearn.svm import SVC\n",
        "svm_classifier = SVC(kernel='rbf', \n",
        "                class_weight='balanced', # penalize\n",
        "                probability=True)"
      ],
      "execution_count": 0,
      "outputs": []
    },
    {
      "metadata": {
        "id": "TpAgsCw_q5x7",
        "colab_type": "code",
        "colab": {
          "autoexec": {
            "startup": false,
            "wait_interval": 0
          },
          "output_extras": [
            {
              "item_id": 1
            }
          ],
          "base_uri": "https://localhost:8080/",
          "height": 85
        },
        "outputId": "65baf9d6-8c87-4248-aac1-b39a61f65a1e",
        "executionInfo": {
          "status": "ok",
          "timestamp": 1521395723672,
          "user_tz": -330,
          "elapsed": 73553,
          "user": {
            "displayName": "Nitesh Tiwari",
            "photoUrl": "//lh3.googleusercontent.com/-9Nv5B-a3Ey0/AAAAAAAAAAI/AAAAAAAAAfk/2lqa15W2g-k/s50-c-k-no/photo.jpg",
            "userId": "103011910892907793236"
          }
        }
      },
      "cell_type": "code",
      "source": [
        "svm_classifier.fit(X_train, y_train)"
      ],
      "execution_count": 319,
      "outputs": [
        {
          "output_type": "execute_result",
          "data": {
            "text/plain": [
              "SVC(C=1.0, cache_size=200, class_weight='balanced', coef0=0.0,\n",
              "  decision_function_shape='ovr', degree=3, gamma='auto', kernel='rbf',\n",
              "  max_iter=-1, probability=True, random_state=None, shrinking=True,\n",
              "  tol=0.001, verbose=False)"
            ]
          },
          "metadata": {
            "tags": []
          },
          "execution_count": 319
        }
      ]
    },
    {
      "metadata": {
        "id": "x-KpnRm3q8Qi",
        "colab_type": "code",
        "colab": {
          "autoexec": {
            "startup": false,
            "wait_interval": 0
          },
          "output_extras": [
            {
              "item_id": 1
            }
          ],
          "base_uri": "https://localhost:8080/",
          "height": 34
        },
        "outputId": "2b8cbefd-baad-40e8-c9cd-8edc4a0a64f9",
        "executionInfo": {
          "status": "ok",
          "timestamp": 1521395732520,
          "user_tz": -330,
          "elapsed": 2058,
          "user": {
            "displayName": "Nitesh Tiwari",
            "photoUrl": "//lh3.googleusercontent.com/-9Nv5B-a3Ey0/AAAAAAAAAAI/AAAAAAAAAfk/2lqa15W2g-k/s50-c-k-no/photo.jpg",
            "userId": "103011910892907793236"
          }
        }
      },
      "cell_type": "code",
      "source": [
        "from sklearn.metrics import roc_auc_score\n",
        "print(roc_auc_score(y_test, svm_classifier.predict(X_test)))"
      ],
      "execution_count": 320,
      "outputs": [
        {
          "output_type": "stream",
          "text": [
            "0.6881366182836771\n"
          ],
          "name": "stdout"
        }
      ]
    },
    {
      "metadata": {
        "id": "mkHkJI5er1U9",
        "colab_type": "text"
      },
      "cell_type": "markdown",
      "source": [
        "**XGB** "
      ]
    },
    {
      "metadata": {
        "id": "ecuuzbRzr4-z",
        "colab_type": "code",
        "colab": {
          "autoexec": {
            "startup": false,
            "wait_interval": 0
          },
          "output_extras": [
            {
              "item_id": 1
            }
          ],
          "base_uri": "https://localhost:8080/",
          "height": 136
        },
        "outputId": "d6d74e03-eb1f-4982-ab8a-c5985b4052e2",
        "executionInfo": {
          "status": "ok",
          "timestamp": 1521394383301,
          "user_tz": -330,
          "elapsed": 1587,
          "user": {
            "displayName": "Nitesh Tiwari",
            "photoUrl": "//lh3.googleusercontent.com/-9Nv5B-a3Ey0/AAAAAAAAAAI/AAAAAAAAAfk/2lqa15W2g-k/s50-c-k-no/photo.jpg",
            "userId": "103011910892907793236"
          }
        }
      },
      "cell_type": "code",
      "source": [
        "from xgboost import XGBClassifier\n",
        "classifier = XGBClassifier(n_estimators=100,class_weight='balanced')\n",
        "classifier.fit(X_train, y_train)"
      ],
      "execution_count": 268,
      "outputs": [
        {
          "output_type": "execute_result",
          "data": {
            "text/plain": [
              "XGBClassifier(base_score=0.5, booster='gbtree', class_weight='balanced',\n",
              "       colsample_bylevel=1, colsample_bytree=1, gamma=0, learning_rate=0.1,\n",
              "       max_delta_step=0, max_depth=3, min_child_weight=1, missing=None,\n",
              "       n_estimators=100, n_jobs=1, nthread=None,\n",
              "       objective='binary:logistic', random_state=0, reg_alpha=0,\n",
              "       reg_lambda=1, scale_pos_weight=1, seed=None, silent=True,\n",
              "       subsample=1)"
            ]
          },
          "metadata": {
            "tags": []
          },
          "execution_count": 268
        }
      ]
    },
    {
      "metadata": {
        "id": "T1i5E_qWsBhb",
        "colab_type": "code",
        "colab": {
          "autoexec": {
            "startup": false,
            "wait_interval": 0
          },
          "output_extras": [
            {
              "item_id": 1
            },
            {
              "item_id": 2
            }
          ],
          "base_uri": "https://localhost:8080/",
          "height": 88
        },
        "outputId": "9331bc7b-73d6-4b45-d2a2-6e8bcd966550",
        "executionInfo": {
          "status": "ok",
          "timestamp": 1521394386936,
          "user_tz": -330,
          "elapsed": 950,
          "user": {
            "displayName": "Nitesh Tiwari",
            "photoUrl": "//lh3.googleusercontent.com/-9Nv5B-a3Ey0/AAAAAAAAAAI/AAAAAAAAAfk/2lqa15W2g-k/s50-c-k-no/photo.jpg",
            "userId": "103011910892907793236"
          }
        }
      },
      "cell_type": "code",
      "source": [
        "from sklearn.metrics import roc_auc_score\n",
        "print(roc_auc_score(y_test, classifier.predict(X_test)))"
      ],
      "execution_count": 269,
      "outputs": [
        {
          "output_type": "stream",
          "text": [
            "0.5\n"
          ],
          "name": "stdout"
        },
        {
          "output_type": "stream",
          "text": [
            "/usr/local/lib/python3.6/dist-packages/sklearn/preprocessing/label.py:151: DeprecationWarning: The truth value of an empty array is ambiguous. Returning False, but in future this will result in an error. Use `array.size > 0` to check that an array is not empty.\n",
            "  if diff:\n"
          ],
          "name": "stderr"
        }
      ]
    },
    {
      "metadata": {
        "id": "xV-iADc6TSUR",
        "colab_type": "text"
      },
      "cell_type": "markdown",
      "source": [
        "**NEURAL NETWORK**"
      ]
    },
    {
      "metadata": {
        "id": "96sY5hm2TV4y",
        "colab_type": "code",
        "colab": {
          "autoexec": {
            "startup": false,
            "wait_interval": 0
          }
        }
      },
      "cell_type": "code",
      "source": [
        "import keras\n",
        "from keras.models import Sequential\n",
        "from keras.layers import Dense,Dropout"
      ],
      "execution_count": 0,
      "outputs": []
    },
    {
      "metadata": {
        "id": "2JJLS84xTV1h",
        "colab_type": "code",
        "colab": {
          "autoexec": {
            "startup": false,
            "wait_interval": 0
          }
        }
      },
      "cell_type": "code",
      "source": [
        "classifier = Sequential()\n",
        "\n",
        "# Adding the input layer and the first hidden layer\n",
        "classifier.add(Dense(units = 70, kernel_initializer = 'uniform', activation = 'relu', input_dim = 43))\n",
        "classifier.add(Dropout(0.5))\n",
        "\n",
        "# Adding the second hidden layer\n",
        "classifier.add(Dense(units = 30, kernel_initializer = 'uniform', activation = 'relu'))\n",
        "classifier.add(Dropout(0.5))\n",
        "\n",
        "# Adding the output layer\n",
        "classifier.add(Dense(units = 1, kernel_initializer = 'uniform', activation = 'sigmoid'))"
      ],
      "execution_count": 0,
      "outputs": []
    },
    {
      "metadata": {
        "id": "Dno73uVmbAKd",
        "colab_type": "code",
        "colab": {
          "autoexec": {
            "startup": false,
            "wait_interval": 0
          }
        }
      },
      "cell_type": "code",
      "source": [
        "import tensorflow as tf\n",
        "from keras import backend as K\n",
        "\n",
        "def binary_PFA(y_true, y_pred, threshold=K.variable(value=0.5)):\n",
        "    y_pred = K.cast(y_pred >= threshold, 'float32')\n",
        "    # N = total number of negative labels\n",
        "    N = K.sum(1 - y_true)\n",
        "    # FP = total number of false alerts, alerts from the negative class labels\n",
        "    FP = K.sum(y_pred - y_pred * y_true)    \n",
        "    return FP/N\n",
        "\n",
        "def binary_PTA(y_true, y_pred, threshold=K.variable(value=0.5)):\n",
        "    y_pred = K.cast(y_pred >= threshold, 'float32')\n",
        "    # P = total number of positive labels\n",
        "    P = K.sum(y_true)\n",
        "    # TP = total number of correct alerts, alerts from the positive class labels\n",
        "    TP = K.sum(y_pred * y_true)    \n",
        "    return TP/P\n",
        "\n",
        "def auc(y_true, y_pred):   \n",
        "    ptas = tf.stack([binary_PTA(y_true,y_pred,k) for k in np.linspace(0, 1, 1000)],axis=0)\n",
        "    pfas = tf.stack([binary_PFA(y_true,y_pred,k) for k in np.linspace(0, 1, 1000)],axis=0)\n",
        "    pfas = tf.concat([tf.ones((1,)) ,pfas],axis=0)\n",
        "    binSizes = -(pfas[1:]-pfas[:-1])\n",
        "    s = ptas*binSizes\n",
        "    return K.sum(s, axis=0)\n",
        "  \n"
      ],
      "execution_count": 0,
      "outputs": []
    },
    {
      "metadata": {
        "id": "133Dv510TVxh",
        "colab_type": "code",
        "colab": {
          "autoexec": {
            "startup": false,
            "wait_interval": 0
          }
        }
      },
      "cell_type": "code",
      "source": [
        "# Compiling the ANN\n",
        "classifier.compile(optimizer = 'adam', loss = 'binary_crossentropy', metrics = [auc])"
      ],
      "execution_count": 0,
      "outputs": []
    },
    {
      "metadata": {
        "id": "2WeQIv7NTVuZ",
        "colab_type": "code",
        "colab": {
          "autoexec": {
            "startup": false,
            "wait_interval": 0
          },
          "output_extras": [
            {
              "item_id": 137
            },
            {
              "item_id": 184
            },
            {
              "item_id": 226
            },
            {
              "item_id": 290
            },
            {
              "item_id": 386
            },
            {
              "item_id": 470
            },
            {
              "item_id": 522
            },
            {
              "item_id": 561
            },
            {
              "item_id": 600
            },
            {
              "item_id": 613
            },
            {
              "item_id": 614
            }
          ],
          "base_uri": "https://localhost:8080/",
          "height": 394
        },
        "outputId": "11449573-e347-4fbd-88c4-10305fcede8c",
        "executionInfo": {
          "status": "ok",
          "timestamp": 1521390370845,
          "user_tz": -330,
          "elapsed": 387393,
          "user": {
            "displayName": "Nitesh Tiwari",
            "photoUrl": "//lh3.googleusercontent.com/-9Nv5B-a3Ey0/AAAAAAAAAAI/AAAAAAAAAfk/2lqa15W2g-k/s50-c-k-no/photo.jpg",
            "userId": "103011910892907793236"
          }
        }
      },
      "cell_type": "code",
      "source": [
        "# Fitting the ANN to the Training set\n",
        "classifier.fit(X_train, y_train, batch_size = 10, epochs = 10)"
      ],
      "execution_count": 50,
      "outputs": [
        {
          "output_type": "stream",
          "text": [
            "Epoch 1/10\n",
            "20266/20266 [==============================] - 46s 2ms/step - loss: 0.5608 - auc: nan\n",
            "Epoch 2/10\n",
            " 5730/20266 [=======>......................] - ETA: 27s - loss: 0.5161 - auc: nan"
          ],
          "name": "stdout"
        },
        {
          "output_type": "stream",
          "text": [
            "20266/20266 [==============================] - 38s 2ms/step - loss: 0.5135 - auc: nan\n",
            "Epoch 3/10\n",
            "10140/20266 [==============>...............] - ETA: 18s - loss: 0.4915 - auc: nan"
          ],
          "name": "stdout"
        },
        {
          "output_type": "stream",
          "text": [
            "20266/20266 [==============================] - 38s 2ms/step - loss: 0.4891 - auc: nan\n",
            "Epoch 4/10\n",
            "12150/20266 [================>.............] - ETA: 14s - loss: 0.4760 - auc: nan"
          ],
          "name": "stdout"
        },
        {
          "output_type": "stream",
          "text": [
            "20266/20266 [==============================] - 37s 2ms/step - loss: 0.4669 - auc: nan\n",
            "Epoch 5/10\n",
            "13110/20266 [==================>...........] - ETA: 13s - loss: 0.4485 - auc: nan"
          ],
          "name": "stdout"
        },
        {
          "output_type": "stream",
          "text": [
            "20266/20266 [==============================] - 37s 2ms/step - loss: 0.4466 - auc: nan\n",
            "Epoch 6/10\n",
            "13490/20266 [==================>...........] - ETA: 12s - loss: 0.4389 - auc: nan"
          ],
          "name": "stdout"
        },
        {
          "output_type": "stream",
          "text": [
            "20266/20266 [==============================] - 38s 2ms/step - loss: 0.4318 - auc: nan\n",
            "Epoch 7/10\n",
            "13660/20266 [===================>..........] - ETA: 12s - loss: 0.4184 - auc: nan"
          ],
          "name": "stdout"
        },
        {
          "output_type": "stream",
          "text": [
            "20266/20266 [==============================] - 38s 2ms/step - loss: 0.4156 - auc: nan\n",
            "Epoch 8/10\n",
            "13760/20266 [===================>..........] - ETA: 12s - loss: 0.4063 - auc: nan"
          ],
          "name": "stdout"
        },
        {
          "output_type": "stream",
          "text": [
            "20266/20266 [==============================] - 38s 2ms/step - loss: 0.4043 - auc: nan\n",
            "Epoch 9/10\n",
            "13670/20266 [===================>..........] - ETA: 12s - loss: 0.3917 - auc: nan"
          ],
          "name": "stdout"
        },
        {
          "output_type": "stream",
          "text": [
            "20266/20266 [==============================] - 38s 2ms/step - loss: 0.3937 - auc: nan\n",
            "Epoch 10/10\n",
            "13590/20266 [===================>..........] - ETA: 12s - loss: 0.3862 - auc: nan"
          ],
          "name": "stdout"
        },
        {
          "output_type": "stream",
          "text": [
            "20266/20266 [==============================] - 38s 2ms/step - loss: 0.3812 - auc: nan\n"
          ],
          "name": "stdout"
        },
        {
          "output_type": "execute_result",
          "data": {
            "text/plain": [
              "<keras.callbacks.History at 0x7f3c09edbd68>"
            ]
          },
          "metadata": {
            "tags": []
          },
          "execution_count": 50
        }
      ]
    },
    {
      "metadata": {
        "id": "dF0TlRY-T0GA",
        "colab_type": "code",
        "colab": {
          "autoexec": {
            "startup": false,
            "wait_interval": 0
          }
        }
      },
      "cell_type": "code",
      "source": [
        "y_pred = classifier.predict(X_test)\n",
        "y_pred = (y_pred > 0.5)"
      ],
      "execution_count": 0,
      "outputs": []
    },
    {
      "metadata": {
        "id": "R652jkUCT5Pa",
        "colab_type": "code",
        "colab": {
          "autoexec": {
            "startup": false,
            "wait_interval": 0
          },
          "output_extras": [
            {
              "item_id": 1
            }
          ],
          "base_uri": "https://localhost:8080/",
          "height": 34
        },
        "outputId": "a8b24903-6178-49bb-ece1-c9fc4d2eb0a7",
        "executionInfo": {
          "status": "ok",
          "timestamp": 1521390433629,
          "user_tz": -330,
          "elapsed": 929,
          "user": {
            "displayName": "Nitesh Tiwari",
            "photoUrl": "//lh3.googleusercontent.com/-9Nv5B-a3Ey0/AAAAAAAAAAI/AAAAAAAAAfk/2lqa15W2g-k/s50-c-k-no/photo.jpg",
            "userId": "103011910892907793236"
          }
        }
      },
      "cell_type": "code",
      "source": [
        "from sklearn.metrics import roc_auc_score\n",
        "print(roc_auc_score(y_test, classifier.predict(X_test)))"
      ],
      "execution_count": 52,
      "outputs": [
        {
          "output_type": "stream",
          "text": [
            "0.7152088107970461\n"
          ],
          "name": "stdout"
        }
      ]
    },
    {
      "metadata": {
        "id": "kBrBCD1mAjfi",
        "colab_type": "text"
      },
      "cell_type": "markdown",
      "source": [
        "**Predicting**"
      ]
    },
    {
      "metadata": {
        "id": "VvwVzOheApCo",
        "colab_type": "code",
        "colab": {
          "autoexec": {
            "startup": false,
            "wait_interval": 0
          }
        }
      },
      "cell_type": "code",
      "source": [
        "df_test=pd.read_csv('test.csv')"
      ],
      "execution_count": 0,
      "outputs": []
    },
    {
      "metadata": {
        "id": "_jwral_sAt7e",
        "colab_type": "code",
        "colab": {
          "autoexec": {
            "startup": false,
            "wait_interval": 0
          }
        }
      },
      "cell_type": "code",
      "source": [
        "sample=pd.read_csv('sample.csv')"
      ],
      "execution_count": 0,
      "outputs": []
    },
    {
      "metadata": {
        "id": "z8OuqPLEAt3f",
        "colab_type": "code",
        "colab": {
          "autoexec": {
            "startup": false,
            "wait_interval": 0
          },
          "output_extras": [
            {
              "item_id": 1
            }
          ],
          "base_uri": "https://localhost:8080/",
          "height": 204
        },
        "outputId": "5c94ef62-dff2-485d-c926-01c20135d38d",
        "executionInfo": {
          "status": "ok",
          "timestamp": 1521395751478,
          "user_tz": -330,
          "elapsed": 1012,
          "user": {
            "displayName": "Nitesh Tiwari",
            "photoUrl": "//lh3.googleusercontent.com/-9Nv5B-a3Ey0/AAAAAAAAAAI/AAAAAAAAAfk/2lqa15W2g-k/s50-c-k-no/photo.jpg",
            "userId": "103011910892907793236"
          }
        }
      },
      "cell_type": "code",
      "source": [
        "sample.head()"
      ],
      "execution_count": 323,
      "outputs": [
        {
          "output_type": "execute_result",
          "data": {
            "text/html": [
              "<div>\n",
              "<style scoped>\n",
              "    .dataframe tbody tr th:only-of-type {\n",
              "        vertical-align: middle;\n",
              "    }\n",
              "\n",
              "    .dataframe tbody tr th {\n",
              "        vertical-align: top;\n",
              "    }\n",
              "\n",
              "    .dataframe thead th {\n",
              "        text-align: right;\n",
              "    }\n",
              "</style>\n",
              "<table border=\"1\" class=\"dataframe\">\n",
              "  <thead>\n",
              "    <tr style=\"text-align: right;\">\n",
              "      <th></th>\n",
              "      <th>victim_id</th>\n",
              "      <th>criticality</th>\n",
              "    </tr>\n",
              "  </thead>\n",
              "  <tbody>\n",
              "    <tr>\n",
              "      <th>0</th>\n",
              "      <td>VIC20100001032706</td>\n",
              "      <td>0</td>\n",
              "    </tr>\n",
              "    <tr>\n",
              "      <th>1</th>\n",
              "      <td>VIC20120000441519</td>\n",
              "      <td>0</td>\n",
              "    </tr>\n",
              "    <tr>\n",
              "      <th>2</th>\n",
              "      <td>VIC20130000014119</td>\n",
              "      <td>0</td>\n",
              "    </tr>\n",
              "    <tr>\n",
              "      <th>3</th>\n",
              "      <td>VIC20140000614145</td>\n",
              "      <td>0</td>\n",
              "    </tr>\n",
              "    <tr>\n",
              "      <th>4</th>\n",
              "      <td>VIC20090002298916</td>\n",
              "      <td>0</td>\n",
              "    </tr>\n",
              "  </tbody>\n",
              "</table>\n",
              "</div>"
            ],
            "text/plain": [
              "           victim_id  criticality\n",
              "0  VIC20100001032706            0\n",
              "1  VIC20120000441519            0\n",
              "2  VIC20130000014119            0\n",
              "3  VIC20140000614145            0\n",
              "4  VIC20090002298916            0"
            ]
          },
          "metadata": {
            "tags": []
          },
          "execution_count": 323
        }
      ]
    },
    {
      "metadata": {
        "id": "GHFRkzXeAtyU",
        "colab_type": "code",
        "colab": {
          "autoexec": {
            "startup": false,
            "wait_interval": 0
          },
          "output_extras": [
            {
              "item_id": 1
            }
          ],
          "base_uri": "https://localhost:8080/",
          "height": 34
        },
        "outputId": "5e1a1bea-af1b-41b2-d8c3-d06a68d476df",
        "executionInfo": {
          "status": "ok",
          "timestamp": 1521390470463,
          "user_tz": -330,
          "elapsed": 726,
          "user": {
            "displayName": "Nitesh Tiwari",
            "photoUrl": "//lh3.googleusercontent.com/-9Nv5B-a3Ey0/AAAAAAAAAAI/AAAAAAAAAfk/2lqa15W2g-k/s50-c-k-no/photo.jpg",
            "userId": "103011910892907793236"
          }
        }
      },
      "cell_type": "code",
      "source": [
        "len(sample)"
      ],
      "execution_count": 62,
      "outputs": [
        {
          "output_type": "execute_result",
          "data": {
            "text/plain": [
              "5048"
            ]
          },
          "metadata": {
            "tags": []
          },
          "execution_count": 62
        }
      ]
    },
    {
      "metadata": {
        "id": "gzAZiJWABGwS",
        "colab_type": "code",
        "colab": {
          "autoexec": {
            "startup": false,
            "wait_interval": 0
          },
          "output_extras": [
            {
              "item_id": 1
            }
          ],
          "base_uri": "https://localhost:8080/",
          "height": 309
        },
        "outputId": "4d645fca-634d-4bb6-c0f0-3a3320d9f887",
        "executionInfo": {
          "status": "ok",
          "timestamp": 1521394413629,
          "user_tz": -330,
          "elapsed": 805,
          "user": {
            "displayName": "Nitesh Tiwari",
            "photoUrl": "//lh3.googleusercontent.com/-9Nv5B-a3Ey0/AAAAAAAAAAI/AAAAAAAAAfk/2lqa15W2g-k/s50-c-k-no/photo.jpg",
            "userId": "103011910892907793236"
          }
        }
      },
      "cell_type": "code",
      "source": [
        "df_test.head()"
      ],
      "execution_count": 273,
      "outputs": [
        {
          "output_type": "execute_result",
          "data": {
            "text/html": [
              "<div>\n",
              "<style scoped>\n",
              "    .dataframe tbody tr th:only-of-type {\n",
              "        vertical-align: middle;\n",
              "    }\n",
              "\n",
              "    .dataframe tbody tr th {\n",
              "        vertical-align: top;\n",
              "    }\n",
              "\n",
              "    .dataframe thead th {\n",
              "        text-align: right;\n",
              "    }\n",
              "</style>\n",
              "<table border=\"1\" class=\"dataframe\">\n",
              "  <thead>\n",
              "    <tr style=\"text-align: right;\">\n",
              "      <th></th>\n",
              "      <th>victim_id</th>\n",
              "      <th>incident_time</th>\n",
              "      <th>incident_date</th>\n",
              "      <th>incident_location</th>\n",
              "      <th>incident_tehsil</th>\n",
              "      <th>cause_of_emergency</th>\n",
              "      <th>base_to_scene_distance</th>\n",
              "      <th>scene_to_hospital_distance</th>\n",
              "      <th>roadway_feature</th>\n",
              "      <th>road_type</th>\n",
              "      <th>surrounding_area</th>\n",
              "    </tr>\n",
              "  </thead>\n",
              "  <tbody>\n",
              "    <tr>\n",
              "      <th>0</th>\n",
              "      <td>VIC20100001032706</td>\n",
              "      <td>15:46:12</td>\n",
              "      <td>19-05-2010</td>\n",
              "      <td>Chc Sahaspur</td>\n",
              "      <td>Sahaspur</td>\n",
              "      <td>MVC - Pedestrian (Run Over/Hit &amp; Run)</td>\n",
              "      <td>23</td>\n",
              "      <td>27</td>\n",
              "      <td>INT</td>\n",
              "      <td>LOC</td>\n",
              "      <td>MAR</td>\n",
              "    </tr>\n",
              "    <tr>\n",
              "      <th>1</th>\n",
              "      <td>VIC20120000441519</td>\n",
              "      <td>16:55:28</td>\n",
              "      <td>18-03-2012</td>\n",
              "      <td>Doiwala Ambulance</td>\n",
              "      <td>Doiwala</td>\n",
              "      <td>Multiple Vehicular Incident</td>\n",
              "      <td>5</td>\n",
              "      <td>21</td>\n",
              "      <td>CUR</td>\n",
              "      <td>HIW</td>\n",
              "      <td>AGL</td>\n",
              "    </tr>\n",
              "    <tr>\n",
              "      <th>2</th>\n",
              "      <td>VIC20130000014119</td>\n",
              "      <td>18:49:35</td>\n",
              "      <td>04-01-2013</td>\n",
              "      <td>Race Course Chowk</td>\n",
              "      <td>Raipur</td>\n",
              "      <td>Multiple Vehicular Incident</td>\n",
              "      <td>3</td>\n",
              "      <td>1</td>\n",
              "      <td>CUR</td>\n",
              "      <td>HIW</td>\n",
              "      <td>AGL</td>\n",
              "    </tr>\n",
              "    <tr>\n",
              "      <th>3</th>\n",
              "      <td>VIC20140000614145</td>\n",
              "      <td>16:22:55</td>\n",
              "      <td>31-05-2014</td>\n",
              "      <td>Selaqui</td>\n",
              "      <td>Sahaspur</td>\n",
              "      <td>Multiple Vehicular Incident</td>\n",
              "      <td>18</td>\n",
              "      <td>14</td>\n",
              "      <td>UNK</td>\n",
              "      <td>LOC</td>\n",
              "      <td>AGL</td>\n",
              "    </tr>\n",
              "    <tr>\n",
              "      <th>4</th>\n",
              "      <td>VIC20090002298916</td>\n",
              "      <td>15:35:15</td>\n",
              "      <td>08-12-2009</td>\n",
              "      <td>Ambari Mode,Dakpather</td>\n",
              "      <td>Vikasnagar</td>\n",
              "      <td>2 Wheeler accidents</td>\n",
              "      <td>6</td>\n",
              "      <td>10</td>\n",
              "      <td>INT</td>\n",
              "      <td>LOC</td>\n",
              "      <td>MAR</td>\n",
              "    </tr>\n",
              "  </tbody>\n",
              "</table>\n",
              "</div>"
            ],
            "text/plain": [
              "           victim_id incident_time incident_date      incident_location  \\\n",
              "0  VIC20100001032706      15:46:12    19-05-2010           Chc Sahaspur   \n",
              "1  VIC20120000441519      16:55:28    18-03-2012      Doiwala Ambulance   \n",
              "2  VIC20130000014119      18:49:35    04-01-2013      Race Course Chowk   \n",
              "3  VIC20140000614145      16:22:55    31-05-2014                Selaqui   \n",
              "4  VIC20090002298916      15:35:15    08-12-2009  Ambari Mode,Dakpather   \n",
              "\n",
              "  incident_tehsil                     cause_of_emergency  \\\n",
              "0        Sahaspur  MVC - Pedestrian (Run Over/Hit & Run)   \n",
              "1         Doiwala            Multiple Vehicular Incident   \n",
              "2          Raipur            Multiple Vehicular Incident   \n",
              "3        Sahaspur            Multiple Vehicular Incident   \n",
              "4      Vikasnagar                    2 Wheeler accidents   \n",
              "\n",
              "   base_to_scene_distance  scene_to_hospital_distance roadway_feature  \\\n",
              "0                      23                          27             INT   \n",
              "1                       5                          21             CUR   \n",
              "2                       3                           1             CUR   \n",
              "3                      18                          14             UNK   \n",
              "4                       6                          10             INT   \n",
              "\n",
              "  road_type surrounding_area  \n",
              "0       LOC              MAR  \n",
              "1       HIW              AGL  \n",
              "2       HIW              AGL  \n",
              "3       LOC              AGL  \n",
              "4       LOC              MAR  "
            ]
          },
          "metadata": {
            "tags": []
          },
          "execution_count": 273
        }
      ]
    },
    {
      "metadata": {
        "id": "vN6ZoR5U8DgH",
        "colab_type": "code",
        "colab": {
          "autoexec": {
            "startup": false,
            "wait_interval": 0
          }
        }
      },
      "cell_type": "code",
      "source": [
        "df_test['Sensitive_city']=df_test['incident_location'].map(lambda m: iscity(m))"
      ],
      "execution_count": 0,
      "outputs": []
    },
    {
      "metadata": {
        "id": "GYnlP_7u8Daz",
        "colab_type": "code",
        "colab": {
          "autoexec": {
            "startup": false,
            "wait_interval": 0
          }
        }
      },
      "cell_type": "code",
      "source": [
        "df_test['incident_time'] =  pd.to_datetime(df_test['incident_time'])"
      ],
      "execution_count": 0,
      "outputs": []
    },
    {
      "metadata": {
        "id": "XQwKJGdI8j0X",
        "colab_type": "code",
        "colab": {
          "autoexec": {
            "startup": false,
            "wait_interval": 0
          }
        }
      },
      "cell_type": "code",
      "source": [
        "df_test['time_quarter'] = df_test['incident_time'].map(lambda m: con2quad(m))"
      ],
      "execution_count": 0,
      "outputs": []
    },
    {
      "metadata": {
        "id": "S1OBlLr18jvZ",
        "colab_type": "code",
        "colab": {
          "autoexec": {
            "startup": false,
            "wait_interval": 0
          }
        }
      },
      "cell_type": "code",
      "source": [
        "df_test['Sensitive_city']=df['Sensitive_city'].astype('object')"
      ],
      "execution_count": 0,
      "outputs": []
    },
    {
      "metadata": {
        "id": "skAG1ZfnQWlA",
        "colab_type": "code",
        "colab": {
          "autoexec": {
            "startup": false,
            "wait_interval": 0
          }
        }
      },
      "cell_type": "code",
      "source": [
        "df_test['incident_date']=pd.to_datetime(df_test['incident_date'])"
      ],
      "execution_count": 0,
      "outputs": []
    },
    {
      "metadata": {
        "id": "QDhcDvBFQWgv",
        "colab_type": "code",
        "colab": {
          "autoexec": {
            "startup": false,
            "wait_interval": 0
          }
        }
      },
      "cell_type": "code",
      "source": [
        "df_test['weekday'] = df_test['incident_date'].dt.dayofweek"
      ],
      "execution_count": 0,
      "outputs": []
    },
    {
      "metadata": {
        "id": "SR8XdYTBQWTG",
        "colab_type": "code",
        "colab": {
          "autoexec": {
            "startup": false,
            "wait_interval": 0
          }
        }
      },
      "cell_type": "code",
      "source": [
        "df_test['time_quarter']=df_test['time_quarter'].astype('object')\n",
        "df_test['Sensitive_city']=df_test['Sensitive_city'].astype('object')\n",
        "df_test['weekday']=df_test['weekday'].astype('object')"
      ],
      "execution_count": 0,
      "outputs": []
    },
    {
      "metadata": {
        "id": "f4uQF2fqBG6S",
        "colab_type": "code",
        "colab": {
          "autoexec": {
            "startup": false,
            "wait_interval": 0
          }
        }
      },
      "cell_type": "code",
      "source": [
        "df_test=df_test.drop('victim_id',axis=1)\n",
        "df_test=df_test.drop('incident_time',axis=1)\n",
        "df_test=df_test.drop('incident_date',axis=1)\n",
        "df_test=df_test.drop('incident_location',axis=1)"
      ],
      "execution_count": 0,
      "outputs": []
    },
    {
      "metadata": {
        "id": "7MrfKwVPBG3g",
        "colab_type": "code",
        "colab": {
          "autoexec": {
            "startup": false,
            "wait_interval": 0
          },
          "output_extras": [
            {
              "item_id": 1
            }
          ],
          "base_uri": "https://localhost:8080/",
          "height": 292
        },
        "outputId": "663f8917-48de-428a-9f2f-bf67e9e7ddde",
        "executionInfo": {
          "status": "ok",
          "timestamp": 1521396021101,
          "user_tz": -330,
          "elapsed": 1223,
          "user": {
            "displayName": "Nitesh Tiwari",
            "photoUrl": "//lh3.googleusercontent.com/-9Nv5B-a3Ey0/AAAAAAAAAAI/AAAAAAAAAfk/2lqa15W2g-k/s50-c-k-no/photo.jpg",
            "userId": "103011910892907793236"
          }
        }
      },
      "cell_type": "code",
      "source": [
        "df_test.head()"
      ],
      "execution_count": 341,
      "outputs": [
        {
          "output_type": "execute_result",
          "data": {
            "text/html": [
              "<div>\n",
              "<style scoped>\n",
              "    .dataframe tbody tr th:only-of-type {\n",
              "        vertical-align: middle;\n",
              "    }\n",
              "\n",
              "    .dataframe tbody tr th {\n",
              "        vertical-align: top;\n",
              "    }\n",
              "\n",
              "    .dataframe thead th {\n",
              "        text-align: right;\n",
              "    }\n",
              "</style>\n",
              "<table border=\"1\" class=\"dataframe\">\n",
              "  <thead>\n",
              "    <tr style=\"text-align: right;\">\n",
              "      <th></th>\n",
              "      <th>incident_tehsil</th>\n",
              "      <th>cause_of_emergency</th>\n",
              "      <th>base_to_scene_distance</th>\n",
              "      <th>scene_to_hospital_distance</th>\n",
              "      <th>roadway_feature</th>\n",
              "      <th>road_type</th>\n",
              "      <th>surrounding_area</th>\n",
              "      <th>Sensitive_city</th>\n",
              "      <th>time_quarter</th>\n",
              "      <th>weekday</th>\n",
              "    </tr>\n",
              "  </thead>\n",
              "  <tbody>\n",
              "    <tr>\n",
              "      <th>0</th>\n",
              "      <td>Sahaspur</td>\n",
              "      <td>MVC - Pedestrian (Run Over/Hit &amp; Run)</td>\n",
              "      <td>23</td>\n",
              "      <td>27</td>\n",
              "      <td>INT</td>\n",
              "      <td>LOC</td>\n",
              "      <td>MAR</td>\n",
              "      <td>0</td>\n",
              "      <td>t4</td>\n",
              "      <td>2</td>\n",
              "    </tr>\n",
              "    <tr>\n",
              "      <th>1</th>\n",
              "      <td>Doiwala</td>\n",
              "      <td>Multiple Vehicular Incident</td>\n",
              "      <td>5</td>\n",
              "      <td>21</td>\n",
              "      <td>CUR</td>\n",
              "      <td>HIW</td>\n",
              "      <td>AGL</td>\n",
              "      <td>0</td>\n",
              "      <td>t4</td>\n",
              "      <td>6</td>\n",
              "    </tr>\n",
              "    <tr>\n",
              "      <th>2</th>\n",
              "      <td>Raipur</td>\n",
              "      <td>Multiple Vehicular Incident</td>\n",
              "      <td>3</td>\n",
              "      <td>1</td>\n",
              "      <td>CUR</td>\n",
              "      <td>HIW</td>\n",
              "      <td>AGL</td>\n",
              "      <td>0</td>\n",
              "      <td>t5</td>\n",
              "      <td>0</td>\n",
              "    </tr>\n",
              "    <tr>\n",
              "      <th>3</th>\n",
              "      <td>Sahaspur</td>\n",
              "      <td>Multiple Vehicular Incident</td>\n",
              "      <td>18</td>\n",
              "      <td>14</td>\n",
              "      <td>UNK</td>\n",
              "      <td>LOC</td>\n",
              "      <td>AGL</td>\n",
              "      <td>0</td>\n",
              "      <td>t4</td>\n",
              "      <td>5</td>\n",
              "    </tr>\n",
              "    <tr>\n",
              "      <th>4</th>\n",
              "      <td>Vikasnagar</td>\n",
              "      <td>2 Wheeler accidents</td>\n",
              "      <td>6</td>\n",
              "      <td>10</td>\n",
              "      <td>INT</td>\n",
              "      <td>LOC</td>\n",
              "      <td>MAR</td>\n",
              "      <td>0</td>\n",
              "      <td>t4</td>\n",
              "      <td>2</td>\n",
              "    </tr>\n",
              "  </tbody>\n",
              "</table>\n",
              "</div>"
            ],
            "text/plain": [
              "  incident_tehsil                     cause_of_emergency  \\\n",
              "0        Sahaspur  MVC - Pedestrian (Run Over/Hit & Run)   \n",
              "1         Doiwala            Multiple Vehicular Incident   \n",
              "2          Raipur            Multiple Vehicular Incident   \n",
              "3        Sahaspur            Multiple Vehicular Incident   \n",
              "4      Vikasnagar                    2 Wheeler accidents   \n",
              "\n",
              "   base_to_scene_distance  scene_to_hospital_distance roadway_feature  \\\n",
              "0                      23                          27             INT   \n",
              "1                       5                          21             CUR   \n",
              "2                       3                           1             CUR   \n",
              "3                      18                          14             UNK   \n",
              "4                       6                          10             INT   \n",
              "\n",
              "  road_type surrounding_area Sensitive_city time_quarter weekday  \n",
              "0       LOC              MAR              0           t4       2  \n",
              "1       HIW              AGL              0           t4       6  \n",
              "2       HIW              AGL              0           t5       0  \n",
              "3       LOC              AGL              0           t4       5  \n",
              "4       LOC              MAR              0           t4       2  "
            ]
          },
          "metadata": {
            "tags": []
          },
          "execution_count": 341
        }
      ]
    },
    {
      "metadata": {
        "id": "3T06EAL0BGse",
        "colab_type": "code",
        "colab": {
          "autoexec": {
            "startup": false,
            "wait_interval": 0
          }
        }
      },
      "cell_type": "code",
      "source": [
        "X_test=pd.get_dummies(df_test)"
      ],
      "execution_count": 0,
      "outputs": []
    },
    {
      "metadata": {
        "id": "noKFHRvK82G2",
        "colab_type": "code",
        "colab": {
          "autoexec": {
            "startup": false,
            "wait_interval": 0
          },
          "output_extras": [
            {
              "item_id": 1
            }
          ],
          "base_uri": "https://localhost:8080/",
          "height": 34
        },
        "outputId": "6d6f4563-0d91-496e-fdae-54c8f81530d5",
        "executionInfo": {
          "status": "ok",
          "timestamp": 1521396030473,
          "user_tz": -330,
          "elapsed": 1269,
          "user": {
            "displayName": "Nitesh Tiwari",
            "photoUrl": "//lh3.googleusercontent.com/-9Nv5B-a3Ey0/AAAAAAAAAAI/AAAAAAAAAfk/2lqa15W2g-k/s50-c-k-no/photo.jpg",
            "userId": "103011910892907793236"
          }
        }
      },
      "cell_type": "code",
      "source": [
        "X_test.shape"
      ],
      "execution_count": 343,
      "outputs": [
        {
          "output_type": "execute_result",
          "data": {
            "text/plain": [
              "(5048, 50)"
            ]
          },
          "metadata": {
            "tags": []
          },
          "execution_count": 343
        }
      ]
    },
    {
      "metadata": {
        "id": "M6JdIieB95UN",
        "colab_type": "code",
        "colab": {
          "autoexec": {
            "startup": false,
            "wait_interval": 0
          }
        }
      },
      "cell_type": "code",
      "source": [
        "TestXcol=X_test.columns"
      ],
      "execution_count": 0,
      "outputs": []
    },
    {
      "metadata": {
        "id": "ijDuKtya9-aK",
        "colab_type": "code",
        "colab": {
          "autoexec": {
            "startup": false,
            "wait_interval": 0
          },
          "output_extras": [
            {
              "item_id": 1
            }
          ],
          "base_uri": "https://localhost:8080/",
          "height": 136
        },
        "outputId": "121effad-b9d8-4f67-eece-027cdb7dbd23",
        "executionInfo": {
          "status": "ok",
          "timestamp": 1521395971210,
          "user_tz": -330,
          "elapsed": 1196,
          "user": {
            "displayName": "Nitesh Tiwari",
            "photoUrl": "//lh3.googleusercontent.com/-9Nv5B-a3Ey0/AAAAAAAAAAI/AAAAAAAAAfk/2lqa15W2g-k/s50-c-k-no/photo.jpg",
            "userId": "103011910892907793236"
          }
        }
      },
      "cell_type": "code",
      "source": [
        "for i in range(len(TrainXcol)):\n",
        "  f=0\n",
        "  for j in range(len(TestXcol)):\n",
        "    if TrainXcol[i]==TestXcol[j]:\n",
        "      f=1\n",
        "  if f==0:\n",
        "    print(TrainXcol[i])\n",
        "    "
      ],
      "execution_count": 339,
      "outputs": [
        {
          "output_type": "stream",
          "text": [
            "weekday_0\n",
            "weekday_1\n",
            "weekday_2\n",
            "weekday_3\n",
            "weekday_4\n",
            "weekday_5\n",
            "weekday_6\n"
          ],
          "name": "stdout"
        }
      ]
    },
    {
      "metadata": {
        "id": "3mubOAZFBGpi",
        "colab_type": "code",
        "colab": {
          "autoexec": {
            "startup": false,
            "wait_interval": 0
          }
        }
      },
      "cell_type": "code",
      "source": [
        "y_pred=svm_classifier.predict(X_test)"
      ],
      "execution_count": 0,
      "outputs": []
    },
    {
      "metadata": {
        "id": "kf_F7GL4GgQj",
        "colab_type": "code",
        "colab": {
          "autoexec": {
            "startup": false,
            "wait_interval": 0
          },
          "output_extras": [
            {
              "item_id": 1
            }
          ],
          "base_uri": "https://localhost:8080/",
          "height": 34
        },
        "outputId": "411f6eaf-f68a-4177-c20f-615882f2870c",
        "executionInfo": {
          "status": "ok",
          "timestamp": 1521396044642,
          "user_tz": -330,
          "elapsed": 1073,
          "user": {
            "displayName": "Nitesh Tiwari",
            "photoUrl": "//lh3.googleusercontent.com/-9Nv5B-a3Ey0/AAAAAAAAAAI/AAAAAAAAAfk/2lqa15W2g-k/s50-c-k-no/photo.jpg",
            "userId": "103011910892907793236"
          }
        }
      },
      "cell_type": "code",
      "source": [
        "np.count_nonzero(y_pred)"
      ],
      "execution_count": 345,
      "outputs": [
        {
          "output_type": "execute_result",
          "data": {
            "text/plain": [
              "1217"
            ]
          },
          "metadata": {
            "tags": []
          },
          "execution_count": 345
        }
      ]
    },
    {
      "metadata": {
        "id": "byJLfVSbCQgm",
        "colab_type": "text"
      },
      "cell_type": "markdown",
      "source": [
        "**saving file**"
      ]
    },
    {
      "metadata": {
        "id": "PnMn3mKBBGi1",
        "colab_type": "code",
        "colab": {
          "autoexec": {
            "startup": false,
            "wait_interval": 0
          }
        }
      },
      "cell_type": "code",
      "source": [
        "#Saving the file\n",
        "result=pd.read_csv('sample.csv')\n",
        "result['criticality']=y_pred"
      ],
      "execution_count": 0,
      "outputs": []
    },
    {
      "metadata": {
        "id": "lqZdzwNAHvky",
        "colab_type": "code",
        "colab": {
          "autoexec": {
            "startup": false,
            "wait_interval": 0
          }
        }
      },
      "cell_type": "code",
      "source": [
        "result.to_csv('svm_new_final.csv',index=False)"
      ],
      "execution_count": 0,
      "outputs": []
    },
    {
      "metadata": {
        "id": "n5faZ52OAgSy",
        "colab_type": "text"
      },
      "cell_type": "markdown",
      "source": [
        ""
      ]
    },
    {
      "metadata": {
        "id": "UAiTGL__CfUU",
        "colab_type": "code",
        "colab": {
          "autoexec": {
            "startup": false,
            "wait_interval": 0
          },
          "output_extras": [
            {
              "item_id": 1
            }
          ],
          "base_uri": "https://localhost:8080/",
          "height": 34
        },
        "outputId": "ab4dad56-cd20-448f-d3d2-71c6ffdb002f",
        "executionInfo": {
          "status": "ok",
          "timestamp": 1521326441999,
          "user_tz": -330,
          "elapsed": 865,
          "user": {
            "displayName": "Nitesh Tiwari",
            "photoUrl": "//lh3.googleusercontent.com/-9Nv5B-a3Ey0/AAAAAAAAAAI/AAAAAAAAAfk/2lqa15W2g-k/s50-c-k-no/photo.jpg",
            "userId": "103011910892907793236"
          }
        }
      },
      "cell_type": "code",
      "source": [
        "!ls"
      ],
      "execution_count": 273,
      "outputs": [
        {
          "output_type": "stream",
          "text": [
            "datalab  sample.csv  svm.csv  test.csv\ttrain.csv\r\n"
          ],
          "name": "stdout"
        }
      ]
    },
    {
      "metadata": {
        "id": "1JQ6LXCrCfKY",
        "colab_type": "code",
        "colab": {
          "autoexec": {
            "startup": false,
            "wait_interval": 0
          }
        }
      },
      "cell_type": "code",
      "source": [
        "files.download('svm_new_final.csv')"
      ],
      "execution_count": 0,
      "outputs": []
    },
    {
      "metadata": {
        "id": "HkKvt5Z1Fx76",
        "colab_type": "code",
        "colab": {
          "autoexec": {
            "startup": false,
            "wait_interval": 0
          },
          "output_extras": [
            {
              "item_id": 1
            }
          ],
          "base_uri": "https://localhost:8080/",
          "height": 34
        },
        "outputId": "1a790434-1107-412d-97eb-4113988f26bc",
        "executionInfo": {
          "status": "ok",
          "timestamp": 1521326459286,
          "user_tz": -330,
          "elapsed": 718,
          "user": {
            "displayName": "Nitesh Tiwari",
            "photoUrl": "//lh3.googleusercontent.com/-9Nv5B-a3Ey0/AAAAAAAAAAI/AAAAAAAAAfk/2lqa15W2g-k/s50-c-k-no/photo.jpg",
            "userId": "103011910892907793236"
          }
        }
      },
      "cell_type": "code",
      "source": [
        "np.count_nonzero(y_pred)"
      ],
      "execution_count": 275,
      "outputs": [
        {
          "output_type": "execute_result",
          "data": {
            "text/plain": [
              "1236"
            ]
          },
          "metadata": {
            "tags": []
          },
          "execution_count": 275
        }
      ]
    },
    {
      "metadata": {
        "id": "h0GsFIOOH4YB",
        "colab_type": "code",
        "colab": {
          "autoexec": {
            "startup": false,
            "wait_interval": 0
          }
        }
      },
      "cell_type": "code",
      "source": [
        ""
      ],
      "execution_count": 0,
      "outputs": []
    }
  ]
}